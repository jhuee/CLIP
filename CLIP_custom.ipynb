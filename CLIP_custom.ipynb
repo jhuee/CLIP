{
 "cells": [
  {
   "cell_type": "code",
   "execution_count": 7,
   "metadata": {
    "collapsed": true,
    "execution": {
     "iopub.execute_input": "2022-07-08T00:52:15.033873Z",
     "iopub.status.busy": "2022-07-08T00:52:15.032806Z",
     "iopub.status.idle": "2022-07-08T00:52:36.817038Z",
     "shell.execute_reply": "2022-07-08T00:52:36.815836Z",
     "shell.execute_reply.started": "2022-07-08T00:52:15.033829Z"
    },
    "jupyter": {
     "outputs_hidden": true
    },
    "trusted": true
   },
   "outputs": [
    {
     "name": "stdout",
     "output_type": "stream",
     "text": [
      "Requirement already satisfied: timm in c:\\users\\bse07\\anaconda3\\envs\\py38_gpu\\lib\\site-packages (0.6.12)\n",
      "Requirement already satisfied: torch>=1.7 in c:\\users\\bse07\\anaconda3\\envs\\py38_gpu\\lib\\site-packages (from timm) (2.0.0)\n",
      "Requirement already satisfied: torchvision in c:\\users\\bse07\\anaconda3\\envs\\py38_gpu\\lib\\site-packages (from timm) (0.15.0)\n",
      "Requirement already satisfied: pyyaml in c:\\users\\bse07\\anaconda3\\envs\\py38_gpu\\lib\\site-packages (from timm) (6.0.1)\n",
      "Requirement already satisfied: huggingface-hub in c:\\users\\bse07\\anaconda3\\envs\\py38_gpu\\lib\\site-packages (from timm) (0.23.1)\n",
      "Requirement already satisfied: filelock in c:\\users\\bse07\\anaconda3\\envs\\py38_gpu\\lib\\site-packages (from torch>=1.7->timm) (3.13.1)\n",
      "Requirement already satisfied: typing-extensions in c:\\users\\bse07\\anaconda3\\envs\\py38_gpu\\lib\\site-packages (from torch>=1.7->timm) (4.12.2)\n",
      "Requirement already satisfied: sympy in c:\\users\\bse07\\anaconda3\\envs\\py38_gpu\\lib\\site-packages (from torch>=1.7->timm) (1.13.2)\n",
      "Requirement already satisfied: networkx in c:\\users\\bse07\\anaconda3\\envs\\py38_gpu\\lib\\site-packages (from torch>=1.7->timm) (3.1)\n",
      "Requirement already satisfied: jinja2 in c:\\users\\bse07\\anaconda3\\envs\\py38_gpu\\lib\\site-packages (from torch>=1.7->timm) (3.1.4)\n",
      "Requirement already satisfied: fsspec>=2023.5.0 in c:\\users\\bse07\\anaconda3\\envs\\py38_gpu\\lib\\site-packages (from huggingface-hub->timm) (2024.3.1)\n",
      "Requirement already satisfied: packaging>=20.9 in c:\\users\\bse07\\anaconda3\\envs\\py38_gpu\\lib\\site-packages (from huggingface-hub->timm) (24.1)\n",
      "Requirement already satisfied: requests in c:\\users\\bse07\\anaconda3\\envs\\py38_gpu\\lib\\site-packages (from huggingface-hub->timm) (2.32.3)\n",
      "Requirement already satisfied: tqdm>=4.42.1 in c:\\users\\bse07\\anaconda3\\envs\\py38_gpu\\lib\\site-packages (from huggingface-hub->timm) (4.66.4)\n",
      "Requirement already satisfied: numpy in c:\\users\\bse07\\anaconda3\\envs\\py38_gpu\\lib\\site-packages (from torchvision->timm) (1.23.4)\n",
      "Requirement already satisfied: pillow!=8.3.*,>=5.3.0 in c:\\users\\bse07\\anaconda3\\envs\\py38_gpu\\lib\\site-packages (from torchvision->timm) (10.4.0)\n",
      "Requirement already satisfied: colorama in c:\\users\\bse07\\anaconda3\\envs\\py38_gpu\\lib\\site-packages (from tqdm>=4.42.1->huggingface-hub->timm) (0.4.6)\n",
      "Requirement already satisfied: MarkupSafe>=2.0 in c:\\users\\bse07\\anaconda3\\envs\\py38_gpu\\lib\\site-packages (from jinja2->torch>=1.7->timm) (2.1.3)\n",
      "Requirement already satisfied: charset-normalizer<4,>=2 in c:\\users\\bse07\\anaconda3\\envs\\py38_gpu\\lib\\site-packages (from requests->huggingface-hub->timm) (3.3.2)\n",
      "Requirement already satisfied: idna<4,>=2.5 in c:\\users\\bse07\\anaconda3\\envs\\py38_gpu\\lib\\site-packages (from requests->huggingface-hub->timm) (3.7)\n",
      "Requirement already satisfied: urllib3<3,>=1.21.1 in c:\\users\\bse07\\anaconda3\\envs\\py38_gpu\\lib\\site-packages (from requests->huggingface-hub->timm) (2.2.2)\n",
      "Requirement already satisfied: certifi>=2017.4.17 in c:\\users\\bse07\\anaconda3\\envs\\py38_gpu\\lib\\site-packages (from requests->huggingface-hub->timm) (2024.8.30)\n",
      "Requirement already satisfied: mpmath<1.4,>=1.1.0 in c:\\users\\bse07\\anaconda3\\envs\\py38_gpu\\lib\\site-packages (from sympy->torch>=1.7->timm) (1.3.0)\n",
      "Note: you may need to restart the kernel to use updated packages.\n",
      "Requirement already satisfied: transformers in c:\\users\\bse07\\anaconda3\\envs\\py38_gpu\\lib\\site-packages (4.32.1)\n",
      "Requirement already satisfied: filelock in c:\\users\\bse07\\anaconda3\\envs\\py38_gpu\\lib\\site-packages (from transformers) (3.13.1)\n",
      "Requirement already satisfied: huggingface-hub<1.0,>=0.15.1 in c:\\users\\bse07\\anaconda3\\envs\\py38_gpu\\lib\\site-packages (from transformers) (0.23.1)\n",
      "Requirement already satisfied: numpy>=1.17 in c:\\users\\bse07\\anaconda3\\envs\\py38_gpu\\lib\\site-packages (from transformers) (1.23.4)\n",
      "Requirement already satisfied: packaging>=20.0 in c:\\users\\bse07\\anaconda3\\envs\\py38_gpu\\lib\\site-packages (from transformers) (24.1)\n",
      "Requirement already satisfied: pyyaml>=5.1 in c:\\users\\bse07\\anaconda3\\envs\\py38_gpu\\lib\\site-packages (from transformers) (6.0.1)\n",
      "Requirement already satisfied: regex!=2019.12.17 in c:\\users\\bse07\\anaconda3\\envs\\py38_gpu\\lib\\site-packages (from transformers) (2024.7.24)\n",
      "Requirement already satisfied: requests in c:\\users\\bse07\\anaconda3\\envs\\py38_gpu\\lib\\site-packages (from transformers) (2.32.3)\n",
      "Requirement already satisfied: tokenizers!=0.11.3,<0.14,>=0.11.1 in c:\\users\\bse07\\anaconda3\\envs\\py38_gpu\\lib\\site-packages (from transformers) (0.13.3)\n",
      "Requirement already satisfied: safetensors>=0.3.1 in c:\\users\\bse07\\anaconda3\\envs\\py38_gpu\\lib\\site-packages (from transformers) (0.3.2)\n",
      "Requirement already satisfied: tqdm>=4.27 in c:\\users\\bse07\\anaconda3\\envs\\py38_gpu\\lib\\site-packages (from transformers) (4.66.4)\n",
      "Requirement already satisfied: fsspec>=2023.5.0 in c:\\users\\bse07\\anaconda3\\envs\\py38_gpu\\lib\\site-packages (from huggingface-hub<1.0,>=0.15.1->transformers) (2024.3.1)\n",
      "Requirement already satisfied: typing-extensions>=3.7.4.3 in c:\\users\\bse07\\anaconda3\\envs\\py38_gpu\\lib\\site-packages (from huggingface-hub<1.0,>=0.15.1->transformers) (4.12.2)\n",
      "Requirement already satisfied: colorama in c:\\users\\bse07\\anaconda3\\envs\\py38_gpu\\lib\\site-packages (from tqdm>=4.27->transformers) (0.4.6)\n",
      "Requirement already satisfied: charset-normalizer<4,>=2 in c:\\users\\bse07\\anaconda3\\envs\\py38_gpu\\lib\\site-packages (from requests->transformers) (3.3.2)\n",
      "Requirement already satisfied: idna<4,>=2.5 in c:\\users\\bse07\\anaconda3\\envs\\py38_gpu\\lib\\site-packages (from requests->transformers) (3.7)\n",
      "Requirement already satisfied: urllib3<3,>=1.21.1 in c:\\users\\bse07\\anaconda3\\envs\\py38_gpu\\lib\\site-packages (from requests->transformers) (2.2.2)\n",
      "Requirement already satisfied: certifi>=2017.4.17 in c:\\users\\bse07\\anaconda3\\envs\\py38_gpu\\lib\\site-packages (from requests->transformers) (2024.8.30)\n",
      "Note: you may need to restart the kernel to use updated packages.\n",
      "Requirement already satisfied: torchvision in c:\\users\\bse07\\anaconda3\\envs\\py38_gpu\\lib\\site-packages (0.15.0)Note: you may need to restart the kernel to use updated packages.\n",
      "\n",
      "Requirement already satisfied: numpy in c:\\users\\bse07\\anaconda3\\envs\\py38_gpu\\lib\\site-packages (from torchvision) (1.23.4)\n",
      "Requirement already satisfied: requests in c:\\users\\bse07\\anaconda3\\envs\\py38_gpu\\lib\\site-packages (from torchvision) (2.32.3)\n",
      "Requirement already satisfied: torch==2.0.0 in c:\\users\\bse07\\anaconda3\\envs\\py38_gpu\\lib\\site-packages (from torchvision) (2.0.0)\n",
      "Requirement already satisfied: pillow!=8.3.*,>=5.3.0 in c:\\users\\bse07\\anaconda3\\envs\\py38_gpu\\lib\\site-packages (from torchvision) (10.4.0)\n",
      "Requirement already satisfied: filelock in c:\\users\\bse07\\anaconda3\\envs\\py38_gpu\\lib\\site-packages (from torch==2.0.0->torchvision) (3.13.1)\n",
      "Requirement already satisfied: typing-extensions in c:\\users\\bse07\\anaconda3\\envs\\py38_gpu\\lib\\site-packages (from torch==2.0.0->torchvision) (4.12.2)\n",
      "Requirement already satisfied: sympy in c:\\users\\bse07\\anaconda3\\envs\\py38_gpu\\lib\\site-packages (from torch==2.0.0->torchvision) (1.13.2)\n",
      "Requirement already satisfied: networkx in c:\\users\\bse07\\anaconda3\\envs\\py38_gpu\\lib\\site-packages (from torch==2.0.0->torchvision) (3.1)\n",
      "Requirement already satisfied: jinja2 in c:\\users\\bse07\\anaconda3\\envs\\py38_gpu\\lib\\site-packages (from torch==2.0.0->torchvision) (3.1.4)\n",
      "Requirement already satisfied: charset-normalizer<4,>=2 in c:\\users\\bse07\\anaconda3\\envs\\py38_gpu\\lib\\site-packages (from requests->torchvision) (3.3.2)\n",
      "Requirement already satisfied: idna<4,>=2.5 in c:\\users\\bse07\\anaconda3\\envs\\py38_gpu\\lib\\site-packages (from requests->torchvision) (3.7)\n",
      "Requirement already satisfied: urllib3<3,>=1.21.1 in c:\\users\\bse07\\anaconda3\\envs\\py38_gpu\\lib\\site-packages (from requests->torchvision) (2.2.2)\n",
      "Requirement already satisfied: certifi>=2017.4.17 in c:\\users\\bse07\\anaconda3\\envs\\py38_gpu\\lib\\site-packages (from requests->torchvision) (2024.8.30)\n",
      "Requirement already satisfied: MarkupSafe>=2.0 in c:\\users\\bse07\\anaconda3\\envs\\py38_gpu\\lib\\site-packages (from jinja2->torch==2.0.0->torchvision) (2.1.3)\n",
      "Requirement already satisfied: mpmath<1.4,>=1.1.0 in c:\\users\\bse07\\anaconda3\\envs\\py38_gpu\\lib\\site-packages (from sympy->torch==2.0.0->torchvision) (1.3.0)\n",
      "Requirement already satisfied: albumentations in c:\\users\\bse07\\anaconda3\\envs\\py38_gpu\\lib\\site-packages (1.4.18)\n",
      "Collecting numpy>=1.24.4 (from albumentations)\n",
      "  Using cached numpy-1.24.4-cp38-cp38-win_amd64.whl.metadata (5.6 kB)\n",
      "Requirement already satisfied: scipy>=1.10.0 in c:\\users\\bse07\\anaconda3\\envs\\py38_gpu\\lib\\site-packages (from albumentations) (1.10.1)\n",
      "Requirement already satisfied: scikit-image>=0.21.0 in c:\\users\\bse07\\anaconda3\\envs\\py38_gpu\\lib\\site-packages (from albumentations) (0.21.0)\n",
      "Requirement already satisfied: PyYAML in c:\\users\\bse07\\anaconda3\\envs\\py38_gpu\\lib\\site-packages (from albumentations) (6.0.1)\n",
      "Requirement already satisfied: pydantic>=2.7.0 in c:\\users\\bse07\\anaconda3\\envs\\py38_gpu\\lib\\site-packages (from albumentations) (2.9.2)\n",
      "Requirement already satisfied: albucore==0.0.17 in c:\\users\\bse07\\anaconda3\\envs\\py38_gpu\\lib\\site-packages (from albumentations) (0.0.17)\n",
      "Requirement already satisfied: eval-type-backport in c:\\users\\bse07\\anaconda3\\envs\\py38_gpu\\lib\\site-packages (from albumentations) (0.2.0)\n",
      "Requirement already satisfied: opencv-python-headless>=4.9.0.80 in c:\\users\\bse07\\anaconda3\\envs\\py38_gpu\\lib\\site-packages (from albumentations) (4.10.0.84)\n",
      "Requirement already satisfied: typing-extensions>=4.9.0 in c:\\users\\bse07\\anaconda3\\envs\\py38_gpu\\lib\\site-packages (from albumentations) (4.12.2)\n",
      "Requirement already satisfied: annotated-types>=0.6.0 in c:\\users\\bse07\\anaconda3\\envs\\py38_gpu\\lib\\site-packages (from pydantic>=2.7.0->albumentations) (0.7.0)\n",
      "Requirement already satisfied: pydantic-core==2.23.4 in c:\\users\\bse07\\anaconda3\\envs\\py38_gpu\\lib\\site-packages (from pydantic>=2.7.0->albumentations) (2.23.4)\n",
      "Requirement already satisfied: networkx>=2.8 in c:\\users\\bse07\\anaconda3\\envs\\py38_gpu\\lib\\site-packages (from scikit-image>=0.21.0->albumentations) (3.1)\n",
      "Requirement already satisfied: pillow>=9.0.1 in c:\\users\\bse07\\anaconda3\\envs\\py38_gpu\\lib\\site-packages (from scikit-image>=0.21.0->albumentations) (10.4.0)\n",
      "Requirement already satisfied: imageio>=2.27 in c:\\users\\bse07\\anaconda3\\envs\\py38_gpu\\lib\\site-packages (from scikit-image>=0.21.0->albumentations) (2.35.1)\n",
      "Requirement already satisfied: tifffile>=2022.8.12 in c:\\users\\bse07\\anaconda3\\envs\\py38_gpu\\lib\\site-packages (from scikit-image>=0.21.0->albumentations) (2023.7.10)\n",
      "Requirement already satisfied: PyWavelets>=1.1.1 in c:\\users\\bse07\\anaconda3\\envs\\py38_gpu\\lib\\site-packages (from scikit-image>=0.21.0->albumentations) (1.4.1)\n",
      "Requirement already satisfied: packaging>=21 in c:\\users\\bse07\\anaconda3\\envs\\py38_gpu\\lib\\site-packages (from scikit-image>=0.21.0->albumentations) (24.1)\n",
      "Requirement already satisfied: lazy_loader>=0.2 in c:\\users\\bse07\\anaconda3\\envs\\py38_gpu\\lib\\site-packages (from scikit-image>=0.21.0->albumentations) (0.4)\n",
      "Using cached numpy-1.24.4-cp38-cp38-win_amd64.whl (14.9 MB)\n",
      "Installing collected packages: numpy\n",
      "  Attempting uninstall: numpy\n",
      "    Found existing installation: numpy 1.23.4\n",
      "    Uninstalling numpy-1.23.4:\n",
      "      Successfully uninstalled numpy-1.23.4\n",
      "Successfully installed numpy-1.24.4\n",
      "Note: you may need to restart the kernel to use updated packages.\n"
     ]
    },
    {
     "name": "stderr",
     "output_type": "stream",
     "text": [
      "  WARNING: Failed to remove contents in a temporary directory 'C:\\Users\\bse07\\anaconda3\\envs\\py38_gpu\\Lib\\site-packages\\~-mpy'.\n",
      "  You can safely remove it manually.\n",
      "ERROR: pip's dependency resolver does not currently take into account all the packages that are installed. This behaviour is the source of the following dependency conflicts.\n",
      "tensorboard 2.10.0 requires protobuf<3.20,>=3.9.2, but you have protobuf 4.25.3 which is incompatible.\n",
      "tensorflow 2.3.0 requires gast==0.3.3, but you have gast 0.4.0 which is incompatible.\n",
      "tensorflow 2.3.0 requires numpy<1.19.0,>=1.16.0, but you have numpy 1.24.4 which is incompatible.\n",
      "tensorflow 2.3.0 requires scipy==1.4.1, but you have scipy 1.10.1 which is incompatible.\n",
      "tensorflow 2.3.0 requires tensorflow-estimator<2.4.0,>=2.3.0, but you have tensorflow-estimator 2.15.0 which is incompatible.\n"
     ]
    },
    {
     "name": "stdout",
     "output_type": "stream",
     "text": [
      "Collecting numpy==1.23.4\n",
      "  Using cached numpy-1.23.4-cp38-cp38-win_amd64.whl.metadata (2.3 kB)\n",
      "Using cached numpy-1.23.4-cp38-cp38-win_amd64.whl (14.7 MB)\n",
      "Installing collected packages: numpy\n",
      "  Attempting uninstall: numpy\n",
      "    Found existing installation: numpy 1.24.4\n",
      "    Uninstalling numpy-1.24.4:\n",
      "      Successfully uninstalled numpy-1.24.4\n",
      "Successfully installed numpy-1.23.4\n",
      "Note: you may need to restart the kernel to use updated packages.\n"
     ]
    },
    {
     "name": "stderr",
     "output_type": "stream",
     "text": [
      "ERROR: pip's dependency resolver does not currently take into account all the packages that are installed. This behaviour is the source of the following dependency conflicts.\n",
      "albucore 0.0.17 requires numpy>=1.24, but you have numpy 1.23.4 which is incompatible.\n",
      "albumentations 1.4.18 requires numpy>=1.24.4, but you have numpy 1.23.4 which is incompatible.\n",
      "tensorboard 2.10.0 requires protobuf<3.20,>=3.9.2, but you have protobuf 4.25.3 which is incompatible.\n",
      "tensorflow 2.3.0 requires gast==0.3.3, but you have gast 0.4.0 which is incompatible.\n",
      "tensorflow 2.3.0 requires numpy<1.19.0,>=1.16.0, but you have numpy 1.23.4 which is incompatible.\n",
      "tensorflow 2.3.0 requires scipy==1.4.1, but you have scipy 1.10.1 which is incompatible.\n",
      "tensorflow 2.3.0 requires tensorflow-estimator<2.4.0,>=2.3.0, but you have tensorflow-estimator 2.15.0 which is incompatible.\n"
     ]
    }
   ],
   "source": [
    "%pip install timm\n",
    "%pip install transformers\n",
    "%pip install torchvision\n",
    "%pip install albumentations\n",
    "%pip install numpy==1.23.4"
   ]
  },
  {
   "cell_type": "code",
   "execution_count": 8,
   "metadata": {},
   "outputs": [
    {
     "name": "stdout",
     "output_type": "stream",
     "text": [
      "Requirement already satisfied: pandas in c:\\users\\bse07\\anaconda3\\envs\\py38_gpu\\lib\\site-packages (2.0.3)\n",
      "Requirement already satisfied: python-dateutil>=2.8.2 in c:\\users\\bse07\\anaconda3\\envs\\py38_gpu\\lib\\site-packages (from pandas) (2.9.0.post0)\n",
      "Requirement already satisfied: pytz>=2020.1 in c:\\users\\bse07\\anaconda3\\envs\\py38_gpu\\lib\\site-packages (from pandas) (2024.1)\n",
      "Requirement already satisfied: tzdata>=2022.1 in c:\\users\\bse07\\anaconda3\\envs\\py38_gpu\\lib\\site-packages (from pandas) (2023.3)\n",
      "Requirement already satisfied: numpy>=1.20.3 in c:\\users\\bse07\\anaconda3\\envs\\py38_gpu\\lib\\site-packages (from pandas) (1.23.4)\n",
      "Requirement already satisfied: six>=1.5 in c:\\users\\bse07\\anaconda3\\envs\\py38_gpu\\lib\\site-packages (from python-dateutil>=2.8.2->pandas) (1.15.0)\n",
      "Note: you may need to restart the kernel to use updated packages.\n"
     ]
    }
   ],
   "source": [
    "%pip install pandas"
   ]
  },
  {
   "cell_type": "code",
   "execution_count": 9,
   "metadata": {},
   "outputs": [
    {
     "name": "stdout",
     "output_type": "stream",
     "text": [
      "Requirement already satisfied: matplotlib in c:\\users\\bse07\\anaconda3\\envs\\py38_gpu\\lib\\site-packages (3.7.5)\n",
      "Requirement already satisfied: contourpy>=1.0.1 in c:\\users\\bse07\\anaconda3\\envs\\py38_gpu\\lib\\site-packages (from matplotlib) (1.1.1)\n",
      "Requirement already satisfied: cycler>=0.10 in c:\\users\\bse07\\anaconda3\\envs\\py38_gpu\\lib\\site-packages (from matplotlib) (0.12.1)\n",
      "Requirement already satisfied: fonttools>=4.22.0 in c:\\users\\bse07\\anaconda3\\envs\\py38_gpu\\lib\\site-packages (from matplotlib) (4.54.1)\n",
      "Requirement already satisfied: kiwisolver>=1.0.1 in c:\\users\\bse07\\anaconda3\\envs\\py38_gpu\\lib\\site-packages (from matplotlib) (1.4.7)\n",
      "Requirement already satisfied: numpy<2,>=1.20 in c:\\users\\bse07\\anaconda3\\envs\\py38_gpu\\lib\\site-packages (from matplotlib) (1.23.4)\n",
      "Requirement already satisfied: packaging>=20.0 in c:\\users\\bse07\\anaconda3\\envs\\py38_gpu\\lib\\site-packages (from matplotlib) (24.1)\n",
      "Requirement already satisfied: pillow>=6.2.0 in c:\\users\\bse07\\anaconda3\\envs\\py38_gpu\\lib\\site-packages (from matplotlib) (10.4.0)\n",
      "Requirement already satisfied: pyparsing>=2.3.1 in c:\\users\\bse07\\anaconda3\\envs\\py38_gpu\\lib\\site-packages (from matplotlib) (3.1.4)\n",
      "Requirement already satisfied: python-dateutil>=2.7 in c:\\users\\bse07\\anaconda3\\envs\\py38_gpu\\lib\\site-packages (from matplotlib) (2.9.0.post0)\n",
      "Requirement already satisfied: importlib-resources>=3.2.0 in c:\\users\\bse07\\anaconda3\\envs\\py38_gpu\\lib\\site-packages (from matplotlib) (6.4.0)\n",
      "Requirement already satisfied: zipp>=3.1.0 in c:\\users\\bse07\\anaconda3\\envs\\py38_gpu\\lib\\site-packages (from importlib-resources>=3.2.0->matplotlib) (3.17.0)\n",
      "Requirement already satisfied: six>=1.5 in c:\\users\\bse07\\anaconda3\\envs\\py38_gpu\\lib\\site-packages (from python-dateutil>=2.7->matplotlib) (1.15.0)\n",
      "Note: you may need to restart the kernel to use updated packages.\n"
     ]
    }
   ],
   "source": [
    "%pip install matplotlib"
   ]
  },
  {
   "cell_type": "code",
   "execution_count": 10,
   "metadata": {},
   "outputs": [
    {
     "name": "stdout",
     "output_type": "stream",
     "text": [
      "Looking in links: https://download.pytorch.org/whl/torch_stable.html\n",
      "Note: you may need to restart the kernel to use updated packages.\n"
     ]
    },
    {
     "name": "stderr",
     "output_type": "stream",
     "text": [
      "ERROR: Could not find a version that satisfies the requirement torch==1.12.1+cu112 (from versions: 1.4.0, 1.4.0+cpu, 1.4.0+cu92, 1.5.0, 1.5.0+cpu, 1.5.0+cu101, 1.5.0+cu92, 1.5.1, 1.5.1+cpu, 1.5.1+cu101, 1.5.1+cu92, 1.6.0, 1.6.0+cpu, 1.6.0+cu101, 1.7.0, 1.7.0+cpu, 1.7.0+cu101, 1.7.0+cu110, 1.7.1, 1.7.1+cpu, 1.7.1+cu101, 1.7.1+cu110, 1.8.0, 1.8.0+cpu, 1.8.0+cu101, 1.8.0+cu111, 1.8.1, 1.8.1+cpu, 1.8.1+cu101, 1.8.1+cu102, 1.8.1+cu111, 1.9.0, 1.9.0+cpu, 1.9.0+cu102, 1.9.0+cu111, 1.9.1, 1.9.1+cpu, 1.9.1+cu102, 1.9.1+cu111, 1.10.0, 1.10.0+cpu, 1.10.0+cu102, 1.10.0+cu111, 1.10.0+cu113, 1.10.1, 1.10.1+cpu, 1.10.1+cu102, 1.10.1+cu111, 1.10.1+cu113, 1.10.2, 1.10.2+cpu, 1.10.2+cu102, 1.10.2+cu111, 1.10.2+cu113, 1.11.0, 1.11.0+cpu, 1.11.0+cu113, 1.11.0+cu115, 1.12.0, 1.12.0+cpu, 1.12.0+cu113, 1.12.0+cu116, 1.12.1, 1.12.1+cpu, 1.12.1+cu113, 1.12.1+cu116, 1.13.0, 1.13.0+cpu, 1.13.0+cu116, 1.13.0+cu117, 1.13.1, 1.13.1+cpu, 1.13.1+cu116, 1.13.1+cu117, 2.0.0, 2.0.0+cpu, 2.0.0+cu117, 2.0.0+cu118, 2.0.1, 2.0.1+cpu, 2.0.1+cu117, 2.0.1+cu118, 2.1.0, 2.1.0+cpu, 2.1.0+cu118, 2.1.0+cu121, 2.1.1, 2.1.1+cpu, 2.1.1+cu118, 2.1.1+cu121, 2.1.2, 2.1.2+cpu, 2.1.2+cu118, 2.1.2+cu121, 2.2.0, 2.2.0+cpu, 2.2.0+cu118, 2.2.0+cu121, 2.2.1, 2.2.1+cpu, 2.2.1+cu118, 2.2.1+cu121, 2.2.2, 2.2.2+cpu, 2.2.2+cu118, 2.2.2+cu121, 2.3.0, 2.3.0+cpu, 2.3.0+cu118, 2.3.0+cu121, 2.3.1, 2.3.1+cpu, 2.3.1+cu118, 2.3.1+cu121, 2.4.0, 2.4.1)\n",
      "ERROR: No matching distribution found for torch==1.12.1+cu112\n"
     ]
    }
   ],
   "source": [
    "%pip install torch==1.12.1+cu112 torchvision==0.13.1+cu112 torchaudio==0.12.1+cu112 -f https://download.pytorch.org/whl/torch_stable.html"
   ]
  },
  {
   "cell_type": "code",
   "execution_count": 11,
   "metadata": {},
   "outputs": [
    {
     "name": "stdout",
     "output_type": "stream",
     "text": [
      "Note: you may need to restart the kernel to use updated packages.\n"
     ]
    },
    {
     "name": "stderr",
     "output_type": "stream",
     "text": [
      "WARNING: Skipping transformer as it is not installed.\n"
     ]
    }
   ],
   "source": [
    "%pip uninstall transformer"
   ]
  },
  {
   "cell_type": "code",
   "execution_count": 45,
   "metadata": {},
   "outputs": [
    {
     "name": "stdout",
     "output_type": "stream",
     "text": [
      "Requirement already satisfied: timm in c:\\users\\bse07\\anaconda3\\envs\\hongik38\\lib\\site-packages (0.4.12)Note: you may need to restart the kernel to use updated packages.\n",
      "\n",
      "Collecting timm\n",
      "  Using cached timm-1.0.11-py3-none-any.whl.metadata (48 kB)\n",
      "Requirement already satisfied: torch in c:\\users\\bse07\\anaconda3\\envs\\hongik38\\lib\\site-packages (from timm) (1.7.1+cu110)\n",
      "Requirement already satisfied: torchvision in c:\\users\\bse07\\anaconda3\\envs\\hongik38\\lib\\site-packages (from timm) (0.8.2+cu110)\n",
      "Requirement already satisfied: pyyaml in c:\\users\\bse07\\anaconda3\\envs\\hongik38\\lib\\site-packages (from timm) (6.0.2)\n",
      "Requirement already satisfied: huggingface_hub in c:\\users\\bse07\\anaconda3\\envs\\hongik38\\lib\\site-packages (from timm) (0.26.2)\n",
      "Requirement already satisfied: safetensors in c:\\users\\bse07\\anaconda3\\envs\\hongik38\\lib\\site-packages (from timm) (0.4.5)\n",
      "Requirement already satisfied: filelock in c:\\users\\bse07\\anaconda3\\envs\\hongik38\\lib\\site-packages (from huggingface_hub->timm) (3.16.1)\n",
      "Requirement already satisfied: fsspec>=2023.5.0 in c:\\users\\bse07\\anaconda3\\envs\\hongik38\\lib\\site-packages (from huggingface_hub->timm) (2024.10.0)\n",
      "Requirement already satisfied: packaging>=20.9 in c:\\users\\bse07\\anaconda3\\envs\\hongik38\\lib\\site-packages (from huggingface_hub->timm) (24.1)\n",
      "Requirement already satisfied: requests in c:\\users\\bse07\\anaconda3\\envs\\hongik38\\lib\\site-packages (from huggingface_hub->timm) (2.32.3)\n",
      "Requirement already satisfied: tqdm>=4.42.1 in c:\\users\\bse07\\anaconda3\\envs\\hongik38\\lib\\site-packages (from huggingface_hub->timm) (4.66.6)\n",
      "Requirement already satisfied: typing-extensions>=3.7.4.3 in c:\\users\\bse07\\anaconda3\\envs\\hongik38\\lib\\site-packages (from huggingface_hub->timm) (4.12.2)\n",
      "Requirement already satisfied: numpy in c:\\users\\bse07\\anaconda3\\envs\\hongik38\\lib\\site-packages (from torch->timm) (1.23.4)\n",
      "Requirement already satisfied: pillow>=4.1.1 in c:\\users\\bse07\\anaconda3\\envs\\hongik38\\lib\\site-packages (from torchvision->timm) (10.4.0)\n",
      "Requirement already satisfied: colorama in c:\\users\\bse07\\anaconda3\\envs\\hongik38\\lib\\site-packages (from tqdm>=4.42.1->huggingface_hub->timm) (0.4.6)\n",
      "Requirement already satisfied: charset-normalizer<4,>=2 in c:\\users\\bse07\\anaconda3\\envs\\hongik38\\lib\\site-packages (from requests->huggingface_hub->timm) (3.4.0)\n",
      "Requirement already satisfied: idna<4,>=2.5 in c:\\users\\bse07\\anaconda3\\envs\\hongik38\\lib\\site-packages (from requests->huggingface_hub->timm) (3.10)\n",
      "Requirement already satisfied: urllib3<3,>=1.21.1 in c:\\users\\bse07\\anaconda3\\envs\\hongik38\\lib\\site-packages (from requests->huggingface_hub->timm) (2.2.3)\n",
      "Requirement already satisfied: certifi>=2017.4.17 in c:\\users\\bse07\\anaconda3\\envs\\hongik38\\lib\\site-packages (from requests->huggingface_hub->timm) (2024.8.30)\n",
      "Using cached timm-1.0.11-py3-none-any.whl (2.3 MB)\n",
      "Installing collected packages: timm\n",
      "  Attempting uninstall: timm\n",
      "    Found existing installation: timm 0.4.12\n",
      "    Uninstalling timm-0.4.12:\n",
      "      Successfully uninstalled timm-0.4.12\n",
      "Successfully installed timm-1.0.11\n"
     ]
    }
   ],
   "source": [
    "%pip install --upgrade timm"
   ]
  },
  {
   "cell_type": "code",
   "execution_count": 12,
   "metadata": {},
   "outputs": [
    {
     "name": "stdout",
     "output_type": "stream",
     "text": [
      "Looking in indexes: https://download.pytorch.org/whl/cu112\n",
      "Requirement already satisfied: torch in c:\\users\\bse07\\anaconda3\\envs\\py38_gpu\\lib\\site-packages (2.0.0)\n",
      "Requirement already satisfied: torchvision in c:\\users\\bse07\\anaconda3\\envs\\py38_gpu\\lib\\site-packages (0.15.0)\n",
      "Requirement already satisfied: filelock in c:\\users\\bse07\\anaconda3\\envs\\py38_gpu\\lib\\site-packages (from torch) (3.13.1)\n",
      "Requirement already satisfied: typing-extensions in c:\\users\\bse07\\anaconda3\\envs\\py38_gpu\\lib\\site-packages (from torch) (4.12.2)\n",
      "Requirement already satisfied: sympy in c:\\users\\bse07\\anaconda3\\envs\\py38_gpu\\lib\\site-packages (from torch) (1.13.2)\n",
      "Requirement already satisfied: networkx in c:\\users\\bse07\\anaconda3\\envs\\py38_gpu\\lib\\site-packages (from torch) (3.1)\n",
      "Requirement already satisfied: jinja2 in c:\\users\\bse07\\anaconda3\\envs\\py38_gpu\\lib\\site-packages (from torch) (3.1.4)\n",
      "Requirement already satisfied: numpy in c:\\users\\bse07\\anaconda3\\envs\\py38_gpu\\lib\\site-packages (from torchvision) (1.23.4)\n",
      "Requirement already satisfied: requests in c:\\users\\bse07\\anaconda3\\envs\\py38_gpu\\lib\\site-packages (from torchvision) (2.32.3)\n",
      "Requirement already satisfied: pillow!=8.3.*,>=5.3.0 in c:\\users\\bse07\\anaconda3\\envs\\py38_gpu\\lib\\site-packages (from torchvision) (10.4.0)\n",
      "Requirement already satisfied: MarkupSafe>=2.0 in c:\\users\\bse07\\anaconda3\\envs\\py38_gpu\\lib\\site-packages (from jinja2->torch) (2.1.3)\n",
      "Requirement already satisfied: charset-normalizer<4,>=2 in c:\\users\\bse07\\anaconda3\\envs\\py38_gpu\\lib\\site-packages (from requests->torchvision) (3.3.2)\n",
      "Requirement already satisfied: idna<4,>=2.5 in c:\\users\\bse07\\anaconda3\\envs\\py38_gpu\\lib\\site-packages (from requests->torchvision) (3.7)\n",
      "Requirement already satisfied: urllib3<3,>=1.21.1 in c:\\users\\bse07\\anaconda3\\envs\\py38_gpu\\lib\\site-packages (from requests->torchvision) (2.2.2)\n",
      "Requirement already satisfied: certifi>=2017.4.17 in c:\\users\\bse07\\anaconda3\\envs\\py38_gpu\\lib\\site-packages (from requests->torchvision) (2024.8.30)\n",
      "Requirement already satisfied: mpmath<1.4,>=1.1.0 in c:\\users\\bse07\\anaconda3\\envs\\py38_gpu\\lib\\site-packages (from sympy->torch) (1.3.0)\n",
      "Note: you may need to restart the kernel to use updated packages.\n"
     ]
    }
   ],
   "source": [
    "%pip install torch torchvision --index-url https://download.pytorch.org/whl/cu112"
   ]
  },
  {
   "cell_type": "code",
   "execution_count": 13,
   "metadata": {},
   "outputs": [
    {
     "name": "stdout",
     "output_type": "stream",
     "text": [
      "Requirement already satisfied: matplotlib in c:\\users\\bse07\\anaconda3\\envs\\py38_gpu\\lib\\site-packages (3.7.5)\n",
      "Requirement already satisfied: contourpy>=1.0.1 in c:\\users\\bse07\\anaconda3\\envs\\py38_gpu\\lib\\site-packages (from matplotlib) (1.1.1)\n",
      "Requirement already satisfied: cycler>=0.10 in c:\\users\\bse07\\anaconda3\\envs\\py38_gpu\\lib\\site-packages (from matplotlib) (0.12.1)\n",
      "Requirement already satisfied: fonttools>=4.22.0 in c:\\users\\bse07\\anaconda3\\envs\\py38_gpu\\lib\\site-packages (from matplotlib) (4.54.1)\n",
      "Requirement already satisfied: kiwisolver>=1.0.1 in c:\\users\\bse07\\anaconda3\\envs\\py38_gpu\\lib\\site-packages (from matplotlib) (1.4.7)\n",
      "Requirement already satisfied: numpy<2,>=1.20 in c:\\users\\bse07\\anaconda3\\envs\\py38_gpu\\lib\\site-packages (from matplotlib) (1.23.4)\n",
      "Requirement already satisfied: packaging>=20.0 in c:\\users\\bse07\\anaconda3\\envs\\py38_gpu\\lib\\site-packages (from matplotlib) (24.1)\n",
      "Requirement already satisfied: pillow>=6.2.0 in c:\\users\\bse07\\anaconda3\\envs\\py38_gpu\\lib\\site-packages (from matplotlib) (10.4.0)\n",
      "Requirement already satisfied: pyparsing>=2.3.1 in c:\\users\\bse07\\anaconda3\\envs\\py38_gpu\\lib\\site-packages (from matplotlib) (3.1.4)\n",
      "Requirement already satisfied: python-dateutil>=2.7 in c:\\users\\bse07\\anaconda3\\envs\\py38_gpu\\lib\\site-packages (from matplotlib) (2.9.0.post0)\n",
      "Requirement already satisfied: importlib-resources>=3.2.0 in c:\\users\\bse07\\anaconda3\\envs\\py38_gpu\\lib\\site-packages (from matplotlib) (6.4.0)\n",
      "Requirement already satisfied: zipp>=3.1.0 in c:\\users\\bse07\\anaconda3\\envs\\py38_gpu\\lib\\site-packages (from importlib-resources>=3.2.0->matplotlib) (3.17.0)\n",
      "Requirement already satisfied: six>=1.5 in c:\\users\\bse07\\anaconda3\\envs\\py38_gpu\\lib\\site-packages (from python-dateutil>=2.7->matplotlib) (1.15.0)\n",
      "Note: you may need to restart the kernel to use updated packages.\n"
     ]
    }
   ],
   "source": [
    "%pip install matplotlib"
   ]
  },
  {
   "cell_type": "code",
   "execution_count": 83,
   "metadata": {},
   "outputs": [
    {
     "name": "stdout",
     "output_type": "stream",
     "text": [
      "Collecting transformers==4.9.0\n",
      "  Using cached transformers-4.9.0-py3-none-any.whl.metadata (49 kB)\n",
      "Requirement already satisfied: filelock in c:\\users\\bse07\\anaconda3\\envs\\py38_gpu\\lib\\site-packages (from transformers==4.9.0) (3.13.1)\n",
      "Collecting huggingface-hub==0.0.12 (from transformers==4.9.0)\n",
      "  Using cached huggingface_hub-0.0.12-py3-none-any.whl.metadata (5.6 kB)\n",
      "Requirement already satisfied: numpy>=1.17 in c:\\users\\bse07\\anaconda3\\envs\\py38_gpu\\lib\\site-packages (from transformers==4.9.0) (1.21.0)\n",
      "Requirement already satisfied: packaging in c:\\users\\bse07\\anaconda3\\envs\\py38_gpu\\lib\\site-packages (from transformers==4.9.0) (24.1)\n",
      "Requirement already satisfied: pyyaml>=5.1 in c:\\users\\bse07\\anaconda3\\envs\\py38_gpu\\lib\\site-packages (from transformers==4.9.0) (6.0.1)\n",
      "Requirement already satisfied: regex!=2019.12.17 in c:\\users\\bse07\\anaconda3\\envs\\py38_gpu\\lib\\site-packages (from transformers==4.9.0) (2024.7.24)\n",
      "Requirement already satisfied: requests in c:\\users\\bse07\\anaconda3\\envs\\py38_gpu\\lib\\site-packages (from transformers==4.9.0) (2.32.3)\n",
      "Requirement already satisfied: sacremoses in c:\\users\\bse07\\anaconda3\\envs\\py38_gpu\\lib\\site-packages (from transformers==4.9.0) (0.1.1)\n",
      "Requirement already satisfied: tokenizers<0.11,>=0.10.1 in c:\\users\\bse07\\anaconda3\\envs\\py38_gpu\\lib\\site-packages (from transformers==4.9.0) (0.10.3)\n",
      "Requirement already satisfied: tqdm>=4.27 in c:\\users\\bse07\\anaconda3\\envs\\py38_gpu\\lib\\site-packages (from transformers==4.9.0) (4.66.4)\n",
      "Requirement already satisfied: typing-extensions in c:\\users\\bse07\\anaconda3\\envs\\py38_gpu\\lib\\site-packages (from huggingface-hub==0.0.12->transformers==4.9.0) (4.12.2)\n",
      "Requirement already satisfied: colorama in c:\\users\\bse07\\anaconda3\\envs\\py38_gpu\\lib\\site-packages (from tqdm>=4.27->transformers==4.9.0) (0.4.6)\n",
      "Requirement already satisfied: charset-normalizer<4,>=2 in c:\\users\\bse07\\anaconda3\\envs\\py38_gpu\\lib\\site-packages (from requests->transformers==4.9.0) (3.3.2)\n",
      "Requirement already satisfied: idna<4,>=2.5 in c:\\users\\bse07\\anaconda3\\envs\\py38_gpu\\lib\\site-packages (from requests->transformers==4.9.0) (3.7)\n",
      "Requirement already satisfied: urllib3<3,>=1.21.1 in c:\\users\\bse07\\anaconda3\\envs\\py38_gpu\\lib\\site-packages (from requests->transformers==4.9.0) (2.2.2)\n",
      "Requirement already satisfied: certifi>=2017.4.17 in c:\\users\\bse07\\anaconda3\\envs\\py38_gpu\\lib\\site-packages (from requests->transformers==4.9.0) (2024.8.30)\n",
      "Requirement already satisfied: click in c:\\users\\bse07\\anaconda3\\envs\\py38_gpu\\lib\\site-packages (from sacremoses->transformers==4.9.0) (8.1.7)\n",
      "Requirement already satisfied: joblib in c:\\users\\bse07\\anaconda3\\envs\\py38_gpu\\lib\\site-packages (from sacremoses->transformers==4.9.0) (1.4.2)\n",
      "Using cached transformers-4.9.0-py3-none-any.whl (2.6 MB)\n",
      "Using cached huggingface_hub-0.0.12-py3-none-any.whl (37 kB)\n",
      "Installing collected packages: huggingface-hub, transformers\n",
      "  Attempting uninstall: huggingface-hub\n",
      "    Found existing installation: huggingface-hub 0.26.2\n",
      "    Uninstalling huggingface-hub-0.26.2:\n",
      "      Successfully uninstalled huggingface-hub-0.26.2\n",
      "  Attempting uninstall: transformers\n",
      "    Found existing installation: transformers 4.12.5\n",
      "    Uninstalling transformers-4.12.5:\n",
      "      Successfully uninstalled transformers-4.12.5\n",
      "Successfully installed huggingface-hub-0.0.12 transformers-4.9.0\n",
      "Note: you may need to restart the kernel to use updated packages.\n"
     ]
    },
    {
     "name": "stderr",
     "output_type": "stream",
     "text": [
      "ERROR: pip's dependency resolver does not currently take into account all the packages that are installed. This behaviour is the source of the following dependency conflicts.\n",
      "datasets 2.12.0 requires huggingface-hub<1.0.0,>=0.11.0, but you have huggingface-hub 0.0.12 which is incompatible.\n"
     ]
    }
   ],
   "source": [
    "%pip install transformers==4.9.0\n"
   ]
  },
  {
   "cell_type": "code",
   "execution_count": 3,
   "metadata": {},
   "outputs": [
    {
     "name": "stdout",
     "output_type": "stream",
     "text": [
      "Looking in links: https://download.pytorch.org/whl/torch_stable.html\n",
      "Collecting torch==1.9.1+cu111\n",
      "  Downloading https://download.pytorch.org/whl/cu111/torch-1.9.1%2Bcu111-cp38-cp38-win_amd64.whl (3128.1 MB)\n",
      "     ---------------------------------------- 0.0/3.1 GB ? eta -:--:--\n",
      "     ---------------------------------------- 0.0/3.1 GB 102.8 MB/s eta 0:00:31\n",
      "      --------------------------------------- 0.0/3.1 GB 101.8 MB/s eta 0:00:31\n",
      "      --------------------------------------- 0.1/3.1 GB 102.8 MB/s eta 0:00:30\n",
      "     - -------------------------------------- 0.1/3.1 GB 101.8 MB/s eta 0:00:30\n",
      "     - -------------------------------------- 0.1/3.1 GB 99.6 MB/s eta 0:00:31\n",
      "     - -------------------------------------- 0.1/3.1 GB 100.5 MB/s eta 0:00:30\n",
      "     - -------------------------------------- 0.1/3.1 GB 99.8 MB/s eta 0:00:30\n",
      "     -- ------------------------------------- 0.2/3.1 GB 99.6 MB/s eta 0:00:30\n",
      "     -- ------------------------------------- 0.2/3.1 GB 99.3 MB/s eta 0:00:30\n",
      "     -- ------------------------------------- 0.2/3.1 GB 98.7 MB/s eta 0:00:30\n",
      "     -- ------------------------------------- 0.2/3.1 GB 98.4 MB/s eta 0:00:30\n",
      "     --- ------------------------------------ 0.2/3.1 GB 96.9 MB/s eta 0:00:30\n",
      "     --- ------------------------------------ 0.3/3.1 GB 95.8 MB/s eta 0:00:30\n",
      "     --- ------------------------------------ 0.3/3.1 GB 95.2 MB/s eta 0:00:30\n",
      "     --- ------------------------------------ 0.3/3.1 GB 96.9 MB/s eta 0:00:30\n",
      "     ---- ----------------------------------- 0.3/3.1 GB 96.9 MB/s eta 0:00:29\n",
      "     ---- ----------------------------------- 0.4/3.1 GB 96.9 MB/s eta 0:00:29\n",
      "     ---- ----------------------------------- 0.4/3.1 GB 96.3 MB/s eta 0:00:29\n",
      "     ----- ---------------------------------- 0.4/3.1 GB 96.3 MB/s eta 0:00:29\n",
      "     ----- ---------------------------------- 0.4/3.1 GB 96.9 MB/s eta 0:00:29\n",
      "     ----- ---------------------------------- 0.4/3.1 GB 97.4 MB/s eta 0:00:28\n",
      "     ----- ---------------------------------- 0.5/3.1 GB 99.2 MB/s eta 0:00:27\n",
      "     ------ --------------------------------- 0.5/3.1 GB 100.4 MB/s eta 0:00:27\n",
      "     ------ --------------------------------- 0.5/3.1 GB 102.2 MB/s eta 0:00:26\n",
      "     ------ --------------------------------- 0.5/3.1 GB 104.8 MB/s eta 0:00:25\n",
      "     ------- -------------------------------- 0.6/3.1 GB 105.4 MB/s eta 0:00:25\n",
      "     ------- -------------------------------- 0.6/3.1 GB 104.8 MB/s eta 0:00:25\n",
      "     ------- -------------------------------- 0.6/3.1 GB 105.4 MB/s eta 0:00:25\n",
      "     ------- -------------------------------- 0.6/3.1 GB 106.8 MB/s eta 0:00:24\n",
      "     -------- ------------------------------- 0.6/3.1 GB 108.1 MB/s eta 0:00:23\n",
      "     -------- ------------------------------- 0.7/3.1 GB 110.3 MB/s eta 0:00:23\n",
      "     -------- ------------------------------- 0.7/3.1 GB 109.5 MB/s eta 0:00:23\n",
      "     --------- ------------------------------ 0.7/3.1 GB 109.6 MB/s eta 0:00:23\n",
      "     --------- ------------------------------ 0.7/3.1 GB 109.5 MB/s eta 0:00:22\n",
      "     --------- ------------------------------ 0.8/3.1 GB 110.3 MB/s eta 0:00:22\n",
      "     ---------- ----------------------------- 0.8/3.1 GB 110.3 MB/s eta 0:00:22\n",
      "     ---------- ----------------------------- 0.8/3.1 GB 110.3 MB/s eta 0:00:22\n",
      "     ---------- ----------------------------- 0.8/3.1 GB 109.5 MB/s eta 0:00:21\n",
      "     ---------- ----------------------------- 0.9/3.1 GB 109.5 MB/s eta 0:00:21\n",
      "     ----------- ---------------------------- 0.9/3.1 GB 109.5 MB/s eta 0:00:21\n",
      "     ----------- ---------------------------- 0.9/3.1 GB 108.8 MB/s eta 0:00:21\n",
      "     ----------- ---------------------------- 0.9/3.1 GB 108.8 MB/s eta 0:00:21\n",
      "     ------------ --------------------------- 0.9/3.1 GB 107.4 MB/s eta 0:00:21\n",
      "     ------------ --------------------------- 1.0/3.1 GB 106.7 MB/s eta 0:00:21\n",
      "     ------------ --------------------------- 1.0/3.1 GB 106.8 MB/s eta 0:00:21\n",
      "     ------------ --------------------------- 1.0/3.1 GB 107.5 MB/s eta 0:00:20\n",
      "     ------------- -------------------------- 1.0/3.1 GB 106.8 MB/s eta 0:00:20\n",
      "     ------------- -------------------------- 1.1/3.1 GB 106.8 MB/s eta 0:00:20\n",
      "     ------------- -------------------------- 1.1/3.1 GB 107.5 MB/s eta 0:00:20\n",
      "     -------------- ------------------------- 1.1/3.1 GB 107.4 MB/s eta 0:00:19\n",
      "     -------------- ------------------------- 1.1/3.1 GB 106.7 MB/s eta 0:00:19\n",
      "     -------------- ------------------------- 1.1/3.1 GB 106.1 MB/s eta 0:00:19\n",
      "     -------------- ------------------------- 1.2/3.1 GB 106.8 MB/s eta 0:00:19\n",
      "     --------------- ------------------------ 1.2/3.1 GB 108.1 MB/s eta 0:00:18\n",
      "     --------------- ------------------------ 1.2/3.1 GB 108.8 MB/s eta 0:00:18\n",
      "     --------------- ------------------------ 1.2/3.1 GB 108.8 MB/s eta 0:00:18\n",
      "     --------------- ------------------------ 1.2/3.1 GB 94.7 MB/s eta 0:00:21\n",
      "     --------------- ------------------------ 1.2/3.1 GB 91.6 MB/s eta 0:00:21\n",
      "     ---------------- ----------------------- 1.3/3.1 GB 92.1 MB/s eta 0:00:21\n",
      "     ---------------- ----------------------- 1.3/3.1 GB 91.1 MB/s eta 0:00:21\n",
      "     ---------------- ----------------------- 1.3/3.1 GB 92.1 MB/s eta 0:00:20\n",
      "     ---------------- ----------------------- 1.3/3.1 GB 91.6 MB/s eta 0:00:20\n",
      "     ----------------- ---------------------- 1.3/3.1 GB 91.1 MB/s eta 0:00:20\n",
      "     ----------------- ---------------------- 1.4/3.1 GB 91.1 MB/s eta 0:00:20\n",
      "     ----------------- ---------------------- 1.4/3.1 GB 92.1 MB/s eta 0:00:19\n",
      "     ------------------ --------------------- 1.4/3.1 GB 91.1 MB/s eta 0:00:19\n",
      "     ------------------ --------------------- 1.4/3.1 GB 91.1 MB/s eta 0:00:19\n",
      "     ------------------ --------------------- 1.5/3.1 GB 91.6 MB/s eta 0:00:19\n",
      "     ------------------ --------------------- 1.5/3.1 GB 107.4 MB/s eta 0:00:16\n",
      "     ------------------- -------------------- 1.5/3.1 GB 108.1 MB/s eta 0:00:15\n",
      "     ------------------- -------------------- 1.5/3.1 GB 108.1 MB/s eta 0:00:15\n",
      "     ------------------- -------------------- 1.6/3.1 GB 108.1 MB/s eta 0:00:15\n",
      "     -------------------- ------------------- 1.6/3.1 GB 109.5 MB/s eta 0:00:15\n",
      "     -------------------- ------------------- 1.6/3.1 GB 109.5 MB/s eta 0:00:14\n",
      "     -------------------- ------------------- 1.6/3.1 GB 110.3 MB/s eta 0:00:14\n",
      "     --------------------- ------------------ 1.6/3.1 GB 109.6 MB/s eta 0:00:14\n",
      "     --------------------- ------------------ 1.7/3.1 GB 110.3 MB/s eta 0:00:14\n",
      "     --------------------- ------------------ 1.7/3.1 GB 110.3 MB/s eta 0:00:14\n",
      "     --------------------- ------------------ 1.7/3.1 GB 110.3 MB/s eta 0:00:13\n",
      "     ---------------------- ----------------- 1.7/3.1 GB 110.3 MB/s eta 0:00:13\n",
      "     ---------------------- ----------------- 1.8/3.1 GB 108.8 MB/s eta 0:00:13\n",
      "     ---------------------- ----------------- 1.8/3.1 GB 109.6 MB/s eta 0:00:13\n",
      "     ----------------------- ---------------- 1.8/3.1 GB 108.8 MB/s eta 0:00:13\n",
      "     ----------------------- ---------------- 1.8/3.1 GB 107.5 MB/s eta 0:00:13\n",
      "     ----------------------- ---------------- 1.8/3.1 GB 103.5 MB/s eta 0:00:13\n",
      "     ----------------------- ---------------- 1.9/3.1 GB 101.6 MB/s eta 0:00:13\n",
      "     ----------------------- ---------------- 1.9/3.1 GB 101.6 MB/s eta 0:00:13\n",
      "     ------------------------ --------------- 1.9/3.1 GB 99.8 MB/s eta 0:00:13\n",
      "     ------------------------ --------------- 1.9/3.1 GB 98.6 MB/s eta 0:00:13\n",
      "     ------------------------ --------------- 1.9/3.1 GB 96.9 MB/s eta 0:00:13\n",
      "     ------------------------ --------------- 2.0/3.1 GB 96.3 MB/s eta 0:00:13\n",
      "     ------------------------- -------------- 2.0/3.1 GB 94.7 MB/s eta 0:00:13\n",
      "     ------------------------- -------------- 2.0/3.1 GB 94.2 MB/s eta 0:00:13\n",
      "     ------------------------- -------------- 2.0/3.1 GB 93.1 MB/s eta 0:00:13\n",
      "     ------------------------- -------------- 2.0/3.1 GB 92.6 MB/s eta 0:00:12\n",
      "     -------------------------- ------------- 2.0/3.1 GB 92.1 MB/s eta 0:00:12\n",
      "     -------------------------- ------------- 2.1/3.1 GB 91.6 MB/s eta 0:00:12\n",
      "     -------------------------- ------------- 2.1/3.1 GB 93.6 MB/s eta 0:00:12\n",
      "     -------------------------- ------------- 2.1/3.1 GB 94.2 MB/s eta 0:00:11\n",
      "     --------------------------- ------------ 2.1/3.1 GB 93.1 MB/s eta 0:00:11\n",
      "     --------------------------- ------------ 2.1/3.1 GB 93.6 MB/s eta 0:00:11\n",
      "     --------------------------- ------------ 2.2/3.1 GB 94.7 MB/s eta 0:00:11\n",
      "     ---------------------------- ----------- 2.2/3.1 GB 94.7 MB/s eta 0:00:10\n",
      "     ---------------------------- ----------- 2.2/3.1 GB 94.7 MB/s eta 0:00:10\n",
      "     ---------------------------- ----------- 2.2/3.1 GB 95.2 MB/s eta 0:00:10\n",
      "     ---------------------------- ----------- 2.3/3.1 GB 95.2 MB/s eta 0:00:10\n",
      "     ----------------------------- ---------- 2.3/3.1 GB 95.2 MB/s eta 0:00:09\n",
      "     ----------------------------- ---------- 2.3/3.1 GB 95.2 MB/s eta 0:00:09\n",
      "     ----------------------------- ---------- 2.3/3.1 GB 95.2 MB/s eta 0:00:09\n",
      "     ----------------------------- ---------- 2.3/3.1 GB 95.2 MB/s eta 0:00:09\n",
      "     ------------------------------ --------- 2.4/3.1 GB 95.2 MB/s eta 0:00:09\n",
      "     ------------------------------ --------- 2.4/3.1 GB 95.2 MB/s eta 0:00:08\n",
      "     ------------------------------ --------- 2.4/3.1 GB 95.2 MB/s eta 0:00:08\n",
      "     ------------------------------ --------- 2.4/3.1 GB 95.2 MB/s eta 0:00:08\n",
      "     ------------------------------- -------- 2.4/3.1 GB 95.2 MB/s eta 0:00:08\n",
      "     ------------------------------- -------- 2.4/3.1 GB 94.7 MB/s eta 0:00:08\n",
      "     ------------------------------- -------- 2.5/3.1 GB 94.7 MB/s eta 0:00:07\n",
      "     ------------------------------- -------- 2.5/3.1 GB 94.1 MB/s eta 0:00:07\n",
      "     -------------------------------- ------- 2.5/3.1 GB 94.1 MB/s eta 0:00:07\n",
      "     -------------------------------- ------- 2.5/3.1 GB 91.1 MB/s eta 0:00:07\n",
      "     -------------------------------- ------- 2.5/3.1 GB 86.4 MB/s eta 0:00:07\n",
      "     -------------------------------- ------- 2.5/3.1 GB 82.2 MB/s eta 0:00:08\n",
      "     -------------------------------- ------- 2.5/3.1 GB 78.0 MB/s eta 0:00:08\n",
      "     -------------------------------- ------- 2.5/3.1 GB 73.8 MB/s eta 0:00:09\n",
      "     -------------------------------- ------- 2.5/3.1 GB 71.6 MB/s eta 0:00:09\n",
      "     -------------------------------- ------- 2.6/3.1 GB 70.4 MB/s eta 0:00:09\n",
      "     -------------------------------- ------- 2.6/3.1 GB 69.6 MB/s eta 0:00:08\n",
      "     --------------------------------- ------ 2.6/3.1 GB 69.0 MB/s eta 0:00:08\n",
      "     --------------------------------- ------ 2.6/3.1 GB 68.7 MB/s eta 0:00:08\n",
      "     --------------------------------- ------ 2.6/3.1 GB 67.8 MB/s eta 0:00:08\n",
      "     --------------------------------- ------ 2.6/3.1 GB 67.8 MB/s eta 0:00:08\n",
      "     ---------------------------------- ----- 2.7/3.1 GB 67.6 MB/s eta 0:00:07\n",
      "     ---------------------------------- ----- 2.7/3.1 GB 67.3 MB/s eta 0:00:07\n",
      "     ---------------------------------- ----- 2.7/3.1 GB 67.6 MB/s eta 0:00:07\n",
      "     ---------------------------------- ----- 2.7/3.1 GB 66.5 MB/s eta 0:00:07\n",
      "     ---------------------------------- ----- 2.7/3.1 GB 66.0 MB/s eta 0:00:06\n",
      "     ----------------------------------- ---- 2.8/3.1 GB 65.2 MB/s eta 0:00:06\n",
      "     ----------------------------------- ---- 2.8/3.1 GB 64.7 MB/s eta 0:00:06\n",
      "     ----------------------------------- ---- 2.8/3.1 GB 65.7 MB/s eta 0:00:06\n",
      "     ----------------------------------- ---- 2.8/3.1 GB 79.1 MB/s eta 0:00:05\n",
      "     ------------------------------------ --- 2.8/3.1 GB 80.2 MB/s eta 0:00:04\n",
      "     ------------------------------------ --- 2.8/3.1 GB 81.4 MB/s eta 0:00:04\n",
      "     ------------------------------------ --- 2.8/3.1 GB 81.4 MB/s eta 0:00:04\n",
      "     ------------------------------------ --- 2.9/3.1 GB 81.0 MB/s eta 0:00:04\n",
      "     ------------------------------------ --- 2.9/3.1 GB 81.0 MB/s eta 0:00:04\n",
      "     ------------------------------------- -- 2.9/3.1 GB 79.8 MB/s eta 0:00:03\n",
      "     ------------------------------------- -- 2.9/3.1 GB 79.4 MB/s eta 0:00:03\n",
      "     ------------------------------------- -- 2.9/3.1 GB 77.6 MB/s eta 0:00:03\n",
      "     ------------------------------------- -- 2.9/3.1 GB 75.8 MB/s eta 0:00:03\n",
      "     ------------------------------------- -- 3.0/3.1 GB 75.5 MB/s eta 0:00:03\n",
      "     ------------------------------------- -- 3.0/3.1 GB 75.2 MB/s eta 0:00:03\n",
      "     ------------------------------------- -- 3.0/3.1 GB 70.4 MB/s eta 0:00:03\n",
      "     ------------------------------------- -- 3.0/3.1 GB 66.8 MB/s eta 0:00:03\n",
      "     -------------------------------------- - 3.0/3.1 GB 67.0 MB/s eta 0:00:03\n",
      "     -------------------------------------- - 3.0/3.1 GB 68.4 MB/s eta 0:00:02\n",
      "     -------------------------------------- - 3.0/3.1 GB 70.4 MB/s eta 0:00:02\n",
      "     -------------------------------------- - 3.0/3.1 GB 71.0 MB/s eta 0:00:02\n",
      "     ---------------------------------------  3.1/3.1 GB 71.6 MB/s eta 0:00:01\n",
      "     ---------------------------------------  3.1/3.1 GB 72.9 MB/s eta 0:00:01\n",
      "     ---------------------------------------  3.1/3.1 GB 73.2 MB/s eta 0:00:01\n",
      "     ---------------------------------------  3.1/3.1 GB 74.2 MB/s eta 0:00:01\n",
      "     ---------------------------------------  3.1/3.1 GB 74.2 MB/s eta 0:00:01\n",
      "     ---------------------------------------  3.1/3.1 GB 74.2 MB/s eta 0:00:01\n",
      "     ---------------------------------------  3.1/3.1 GB 74.2 MB/s eta 0:00:01\n",
      "     ---------------------------------------  3.1/3.1 GB 74.2 MB/s eta 0:00:01\n",
      "     ---------------------------------------  3.1/3.1 GB 74.2 MB/s eta 0:00:01\n",
      "     ---------------------------------------  3.1/3.1 GB 74.2 MB/s eta 0:00:01\n",
      "     ---------------------------------------  3.1/3.1 GB 74.2 MB/s eta 0:00:01\n",
      "     ---------------------------------------  3.1/3.1 GB 74.2 MB/s eta 0:00:01\n",
      "     ---------------------------------------  3.1/3.1 GB 74.2 MB/s eta 0:00:01\n",
      "     ---------------------------------------  3.1/3.1 GB 74.2 MB/s eta 0:00:01\n",
      "     ---------------------------------------  3.1/3.1 GB 74.2 MB/s eta 0:00:01\n",
      "     ---------------------------------------  3.1/3.1 GB 74.2 MB/s eta 0:00:01\n",
      "     ---------------------------------------  3.1/3.1 GB 74.2 MB/s eta 0:00:01\n",
      "     ---------------------------------------  3.1/3.1 GB 74.2 MB/s eta 0:00:01\n",
      "     ---------------------------------------  3.1/3.1 GB 74.2 MB/s eta 0:00:01\n",
      "     ---------------------------------------  3.1/3.1 GB 74.2 MB/s eta 0:00:01\n",
      "     ---------------------------------------  3.1/3.1 GB 74.2 MB/s eta 0:00:01\n",
      "     ---------------------------------------  3.1/3.1 GB 74.2 MB/s eta 0:00:01\n",
      "     ---------------------------------------  3.1/3.1 GB 74.2 MB/s eta 0:00:01\n",
      "     ---------------------------------------  3.1/3.1 GB 74.2 MB/s eta 0:00:01\n",
      "     ---------------------------------------  3.1/3.1 GB 74.2 MB/s eta 0:00:01\n",
      "     ---------------------------------------  3.1/3.1 GB 74.2 MB/s eta 0:00:01\n",
      "     ---------------------------------------  3.1/3.1 GB 74.2 MB/s eta 0:00:01\n",
      "     ---------------------------------------  3.1/3.1 GB 74.2 MB/s eta 0:00:01\n",
      "     ---------------------------------------  3.1/3.1 GB 74.2 MB/s eta 0:00:01\n",
      "     ---------------------------------------  3.1/3.1 GB 74.2 MB/s eta 0:00:01\n",
      "     ---------------------------------------  3.1/3.1 GB 74.2 MB/s eta 0:00:01\n",
      "     ---------------------------------------  3.1/3.1 GB 74.2 MB/s eta 0:00:01\n",
      "     ---------------------------------------  3.1/3.1 GB 74.2 MB/s eta 0:00:01\n",
      "     ---------------------------------------  3.1/3.1 GB 74.2 MB/s eta 0:00:01\n",
      "     ---------------------------------------  3.1/3.1 GB 74.2 MB/s eta 0:00:01\n",
      "     ---------------------------------------  3.1/3.1 GB 74.2 MB/s eta 0:00:01\n",
      "     ---------------------------------------  3.1/3.1 GB 74.2 MB/s eta 0:00:01\n",
      "     ---------------------------------------  3.1/3.1 GB 74.2 MB/s eta 0:00:01\n",
      "     ---------------------------------------  3.1/3.1 GB 74.2 MB/s eta 0:00:01\n",
      "     ---------------------------------------  3.1/3.1 GB 74.2 MB/s eta 0:00:01\n",
      "     ---------------------------------------  3.1/3.1 GB 74.2 MB/s eta 0:00:01\n",
      "     ---------------------------------------  3.1/3.1 GB 74.2 MB/s eta 0:00:01\n",
      "     ---------------------------------------  3.1/3.1 GB 74.2 MB/s eta 0:00:01\n",
      "     ---------------------------------------  3.1/3.1 GB 74.2 MB/s eta 0:00:01\n",
      "     ---------------------------------------  3.1/3.1 GB 74.2 MB/s eta 0:00:01\n",
      "     ---------------------------------------  3.1/3.1 GB 74.2 MB/s eta 0:00:01\n",
      "     ---------------------------------------  3.1/3.1 GB 74.2 MB/s eta 0:00:01\n",
      "     ---------------------------------------  3.1/3.1 GB 74.2 MB/s eta 0:00:01\n",
      "     ---------------------------------------  3.1/3.1 GB 74.2 MB/s eta 0:00:01\n",
      "     ---------------------------------------  3.1/3.1 GB 74.2 MB/s eta 0:00:01\n",
      "     ---------------------------------------  3.1/3.1 GB 74.2 MB/s eta 0:00:01\n",
      "     ---------------------------------------  3.1/3.1 GB 74.2 MB/s eta 0:00:01\n",
      "     ---------------------------------------  3.1/3.1 GB 74.2 MB/s eta 0:00:01\n",
      "     ---------------------------------------  3.1/3.1 GB 74.2 MB/s eta 0:00:01\n",
      "     ---------------------------------------  3.1/3.1 GB 74.2 MB/s eta 0:00:01\n",
      "     ---------------------------------------  3.1/3.1 GB 74.2 MB/s eta 0:00:01\n",
      "     ---------------------------------------  3.1/3.1 GB 74.2 MB/s eta 0:00:01\n",
      "     ---------------------------------------  3.1/3.1 GB 74.2 MB/s eta 0:00:01\n",
      "     ---------------------------------------  3.1/3.1 GB 74.2 MB/s eta 0:00:01\n",
      "     ---------------------------------------  3.1/3.1 GB 74.2 MB/s eta 0:00:01\n",
      "     ---------------------------------------  3.1/3.1 GB 74.2 MB/s eta 0:00:01\n",
      "     ---------------------------------------- 3.1/3.1 GB 16.8 MB/s eta 0:00:00\n",
      "Collecting torchvision==0.10.1+cu111\n",
      "  Downloading https://download.pytorch.org/whl/cu111/torchvision-0.10.1%2Bcu111-cp38-cp38-win_amd64.whl (2.5 MB)\n",
      "     ---------------------------------------- 0.0/2.5 MB ? eta -:--:--\n",
      "     ---------------------------------------- 2.5/2.5 MB 72.3 MB/s eta 0:00:00\n",
      "Collecting torchaudio==0.9.1\n",
      "  Downloading torchaudio-0.9.1-cp38-cp38-win_amd64.whl.metadata (1.1 kB)\n",
      "Requirement already satisfied: typing-extensions in c:\\users\\bse07\\anaconda3\\envs\\py38_gpu\\lib\\site-packages (from torch==1.9.1+cu111) (4.12.2)\n",
      "Requirement already satisfied: numpy in c:\\users\\bse07\\anaconda3\\envs\\py38_gpu\\lib\\site-packages (from torchvision==0.10.1+cu111) (1.18.5)\n",
      "Requirement already satisfied: pillow>=5.3.0 in c:\\users\\bse07\\anaconda3\\envs\\py38_gpu\\lib\\site-packages (from torchvision==0.10.1+cu111) (10.4.0)\n",
      "Downloading torchaudio-0.9.1-cp38-cp38-win_amd64.whl (216 kB)\n",
      "Installing collected packages: torch, torchvision, torchaudio\n",
      "Successfully installed torch-1.9.1+cu111 torchaudio-0.9.1 torchvision-0.10.1+cu111\n",
      "Note: you may need to restart the kernel to use updated packages.\n",
      "Requirement already satisfied: transformers==4.9.0 in c:\\users\\bse07\\anaconda3\\envs\\py38_gpu\\lib\\site-packages (4.9.0)\n",
      "Requirement already satisfied: filelock in c:\\users\\bse07\\anaconda3\\envs\\py38_gpu\\lib\\site-packages (from transformers==4.9.0) (3.13.1)\n",
      "Requirement already satisfied: huggingface-hub==0.0.12 in c:\\users\\bse07\\anaconda3\\envs\\py38_gpu\\lib\\site-packages (from transformers==4.9.0) (0.0.12)\n",
      "Requirement already satisfied: numpy>=1.17 in c:\\users\\bse07\\anaconda3\\envs\\py38_gpu\\lib\\site-packages (from transformers==4.9.0) (1.18.5)\n",
      "Requirement already satisfied: packaging in c:\\users\\bse07\\anaconda3\\envs\\py38_gpu\\lib\\site-packages (from transformers==4.9.0) (24.1)\n",
      "Requirement already satisfied: pyyaml>=5.1 in c:\\users\\bse07\\anaconda3\\envs\\py38_gpu\\lib\\site-packages (from transformers==4.9.0) (6.0.1)\n",
      "Requirement already satisfied: regex!=2019.12.17 in c:\\users\\bse07\\anaconda3\\envs\\py38_gpu\\lib\\site-packages (from transformers==4.9.0) (2024.7.24)\n",
      "Requirement already satisfied: requests in c:\\users\\bse07\\anaconda3\\envs\\py38_gpu\\lib\\site-packages (from transformers==4.9.0) (2.32.3)\n",
      "Requirement already satisfied: sacremoses in c:\\users\\bse07\\anaconda3\\envs\\py38_gpu\\lib\\site-packages (from transformers==4.9.0) (0.1.1)\n",
      "Requirement already satisfied: tokenizers<0.11,>=0.10.1 in c:\\users\\bse07\\anaconda3\\envs\\py38_gpu\\lib\\site-packages (from transformers==4.9.0) (0.10.3)\n",
      "Requirement already satisfied: tqdm>=4.27 in c:\\users\\bse07\\anaconda3\\envs\\py38_gpu\\lib\\site-packages (from transformers==4.9.0) (4.66.4)\n",
      "Requirement already satisfied: typing-extensions in c:\\users\\bse07\\anaconda3\\envs\\py38_gpu\\lib\\site-packages (from huggingface-hub==0.0.12->transformers==4.9.0) (4.12.2)\n",
      "Requirement already satisfied: colorama in c:\\users\\bse07\\anaconda3\\envs\\py38_gpu\\lib\\site-packages (from tqdm>=4.27->transformers==4.9.0) (0.4.6)\n",
      "Requirement already satisfied: charset-normalizer<4,>=2 in c:\\users\\bse07\\anaconda3\\envs\\py38_gpu\\lib\\site-packages (from requests->transformers==4.9.0) (3.3.2)\n",
      "Requirement already satisfied: idna<4,>=2.5 in c:\\users\\bse07\\anaconda3\\envs\\py38_gpu\\lib\\site-packages (from requests->transformers==4.9.0) (3.7)\n",
      "Requirement already satisfied: urllib3<3,>=1.21.1 in c:\\users\\bse07\\anaconda3\\envs\\py38_gpu\\lib\\site-packages (from requests->transformers==4.9.0) (2.2.2)\n",
      "Requirement already satisfied: certifi>=2017.4.17 in c:\\users\\bse07\\anaconda3\\envs\\py38_gpu\\lib\\site-packages (from requests->transformers==4.9.0) (2024.8.30)\n",
      "Requirement already satisfied: click in c:\\users\\bse07\\anaconda3\\envs\\py38_gpu\\lib\\site-packages (from sacremoses->transformers==4.9.0) (8.1.7)\n",
      "Requirement already satisfied: joblib in c:\\users\\bse07\\anaconda3\\envs\\py38_gpu\\lib\\site-packages (from sacremoses->transformers==4.9.0) (1.4.2)\n",
      "Note: you may need to restart the kernel to use updated packages.\n"
     ]
    }
   ],
   "source": [
    "%pip install torch==1.9.1+cu111 torchvision==0.10.1+cu111 torchaudio==0.9.1 -f https://download.pytorch.org/whl/torch_stable.html\n",
    "%pip install transformers==4.9.0"
   ]
  },
  {
   "cell_type": "code",
   "execution_count": 47,
   "metadata": {},
   "outputs": [
    {
     "name": "stdout",
     "output_type": "stream",
     "text": [
      "Looking in links: https://dl.fbaipublicfiles.com/detectron2/wheels/cu112/torch1.9/index.html\n",
      "Note: you may need to restart the kernel to use updated packages.\n"
     ]
    },
    {
     "name": "stderr",
     "output_type": "stream",
     "text": [
      "ERROR: Could not find a version that satisfies the requirement detectron2 (from versions: none)\n",
      "ERROR: No matching distribution found for detectron2\n"
     ]
    }
   ],
   "source": [
    "%pip install detectron2 -f https://dl.fbaipublicfiles.com/detectron2/wheels/cu112/torch1.9/index.html\n"
   ]
  },
  {
   "cell_type": "code",
   "execution_count": 5,
   "metadata": {},
   "outputs": [
    {
     "name": "stdout",
     "output_type": "stream",
     "text": [
      "Requirement already satisfied: tensorflow in c:\\users\\bse07\\anaconda3\\envs\\py38_gpu\\lib\\site-packages (2.3.0)\n",
      "Requirement already satisfied: absl-py>=0.7.0 in c:\\users\\bse07\\anaconda3\\envs\\py38_gpu\\lib\\site-packages (from tensorflow) (0.15.0)\n",
      "Requirement already satisfied: astunparse==1.6.3 in c:\\users\\bse07\\anaconda3\\envs\\py38_gpu\\lib\\site-packages (from tensorflow) (1.6.3)\n",
      "Collecting gast==0.3.3 (from tensorflow)\n",
      "  Downloading gast-0.3.3-py2.py3-none-any.whl.metadata (1.1 kB)\n",
      "Requirement already satisfied: google-pasta>=0.1.8 in c:\\users\\bse07\\anaconda3\\envs\\py38_gpu\\lib\\site-packages (from tensorflow) (0.2.0)\n",
      "Requirement already satisfied: h5py<2.11.0,>=2.10.0 in c:\\users\\bse07\\anaconda3\\envs\\py38_gpu\\lib\\site-packages (from tensorflow) (2.10.0)\n",
      "Requirement already satisfied: keras-preprocessing<1.2,>=1.1.1 in c:\\users\\bse07\\anaconda3\\envs\\py38_gpu\\lib\\site-packages (from tensorflow) (1.1.2)\n",
      "Collecting numpy<1.19.0,>=1.16.0 (from tensorflow)\n",
      "  Downloading numpy-1.18.5-cp38-cp38-win_amd64.whl.metadata (2.1 kB)\n",
      "Requirement already satisfied: opt-einsum>=2.3.2 in c:\\users\\bse07\\anaconda3\\envs\\py38_gpu\\lib\\site-packages (from tensorflow) (3.3.0)\n",
      "Requirement already satisfied: protobuf>=3.9.2 in c:\\users\\bse07\\anaconda3\\envs\\py38_gpu\\lib\\site-packages (from tensorflow) (4.25.3)\n",
      "Requirement already satisfied: tensorboard<3,>=2.3.0 in c:\\users\\bse07\\anaconda3\\envs\\py38_gpu\\lib\\site-packages (from tensorflow) (2.10.0)\n",
      "Collecting tensorflow-estimator<2.4.0,>=2.3.0 (from tensorflow)\n",
      "  Downloading tensorflow_estimator-2.3.0-py2.py3-none-any.whl.metadata (1.2 kB)\n",
      "Requirement already satisfied: termcolor>=1.1.0 in c:\\users\\bse07\\anaconda3\\envs\\py38_gpu\\lib\\site-packages (from tensorflow) (1.1.0)\n",
      "Requirement already satisfied: wrapt>=1.11.1 in c:\\users\\bse07\\anaconda3\\envs\\py38_gpu\\lib\\site-packages (from tensorflow) (1.12.1)\n",
      "Requirement already satisfied: wheel>=0.26 in c:\\users\\bse07\\anaconda3\\envs\\py38_gpu\\lib\\site-packages (from tensorflow) (0.44.0)\n",
      "Requirement already satisfied: six>=1.12.0 in c:\\users\\bse07\\anaconda3\\envs\\py38_gpu\\lib\\site-packages (from tensorflow) (1.15.0)\n",
      "Collecting scipy==1.4.1 (from tensorflow)\n",
      "  Downloading scipy-1.4.1-cp38-cp38-win_amd64.whl.metadata (2.0 kB)\n",
      "Requirement already satisfied: grpcio>=1.8.6 in c:\\users\\bse07\\anaconda3\\envs\\py38_gpu\\lib\\site-packages (from tensorflow) (1.62.2)\n",
      "Requirement already satisfied: google-auth<3,>=1.6.3 in c:\\users\\bse07\\anaconda3\\envs\\py38_gpu\\lib\\site-packages (from tensorboard<3,>=2.3.0->tensorflow) (2.29.0)\n",
      "Requirement already satisfied: google-auth-oauthlib<0.5,>=0.4.1 in c:\\users\\bse07\\anaconda3\\envs\\py38_gpu\\lib\\site-packages (from tensorboard<3,>=2.3.0->tensorflow) (0.4.4)\n",
      "Requirement already satisfied: markdown>=2.6.8 in c:\\users\\bse07\\anaconda3\\envs\\py38_gpu\\lib\\site-packages (from tensorboard<3,>=2.3.0->tensorflow) (3.4.1)\n",
      "Collecting protobuf>=3.9.2 (from tensorflow)\n",
      "  Using cached protobuf-3.19.6-cp38-cp38-win_amd64.whl.metadata (807 bytes)\n",
      "Requirement already satisfied: requests<3,>=2.21.0 in c:\\users\\bse07\\anaconda3\\envs\\py38_gpu\\lib\\site-packages (from tensorboard<3,>=2.3.0->tensorflow) (2.32.3)\n",
      "Requirement already satisfied: setuptools>=41.0.0 in c:\\users\\bse07\\anaconda3\\envs\\py38_gpu\\lib\\site-packages (from tensorboard<3,>=2.3.0->tensorflow) (75.2.0)\n",
      "Requirement already satisfied: tensorboard-data-server<0.7.0,>=0.6.0 in c:\\users\\bse07\\anaconda3\\envs\\py38_gpu\\lib\\site-packages (from tensorboard<3,>=2.3.0->tensorflow) (0.6.1)\n",
      "Requirement already satisfied: tensorboard-plugin-wit>=1.6.0 in c:\\users\\bse07\\anaconda3\\envs\\py38_gpu\\lib\\site-packages (from tensorboard<3,>=2.3.0->tensorflow) (1.8.1)\n",
      "Requirement already satisfied: werkzeug>=1.0.1 in c:\\users\\bse07\\anaconda3\\envs\\py38_gpu\\lib\\site-packages (from tensorboard<3,>=2.3.0->tensorflow) (3.0.3)\n",
      "Requirement already satisfied: cachetools<6.0,>=2.0.0 in c:\\users\\bse07\\anaconda3\\envs\\py38_gpu\\lib\\site-packages (from google-auth<3,>=1.6.3->tensorboard<3,>=2.3.0->tensorflow) (5.3.3)\n",
      "Requirement already satisfied: pyasn1-modules>=0.2.1 in c:\\users\\bse07\\anaconda3\\envs\\py38_gpu\\lib\\site-packages (from google-auth<3,>=1.6.3->tensorboard<3,>=2.3.0->tensorflow) (0.2.8)\n",
      "Requirement already satisfied: rsa<5,>=3.1.4 in c:\\users\\bse07\\anaconda3\\envs\\py38_gpu\\lib\\site-packages (from google-auth<3,>=1.6.3->tensorboard<3,>=2.3.0->tensorflow) (4.7.2)\n",
      "Requirement already satisfied: requests-oauthlib>=0.7.0 in c:\\users\\bse07\\anaconda3\\envs\\py38_gpu\\lib\\site-packages (from google-auth-oauthlib<0.5,>=0.4.1->tensorboard<3,>=2.3.0->tensorflow) (2.0.0)\n",
      "Requirement already satisfied: importlib-metadata>=4.4 in c:\\users\\bse07\\anaconda3\\envs\\py38_gpu\\lib\\site-packages (from markdown>=2.6.8->tensorboard<3,>=2.3.0->tensorflow) (7.0.1)\n",
      "Requirement already satisfied: charset-normalizer<4,>=2 in c:\\users\\bse07\\anaconda3\\envs\\py38_gpu\\lib\\site-packages (from requests<3,>=2.21.0->tensorboard<3,>=2.3.0->tensorflow) (3.3.2)\n",
      "Requirement already satisfied: idna<4,>=2.5 in c:\\users\\bse07\\anaconda3\\envs\\py38_gpu\\lib\\site-packages (from requests<3,>=2.21.0->tensorboard<3,>=2.3.0->tensorflow) (3.7)\n",
      "Requirement already satisfied: urllib3<3,>=1.21.1 in c:\\users\\bse07\\anaconda3\\envs\\py38_gpu\\lib\\site-packages (from requests<3,>=2.21.0->tensorboard<3,>=2.3.0->tensorflow) (2.2.2)\n",
      "Requirement already satisfied: certifi>=2017.4.17 in c:\\users\\bse07\\anaconda3\\envs\\py38_gpu\\lib\\site-packages (from requests<3,>=2.21.0->tensorboard<3,>=2.3.0->tensorflow) (2024.8.30)\n",
      "Requirement already satisfied: MarkupSafe>=2.1.1 in c:\\users\\bse07\\anaconda3\\envs\\py38_gpu\\lib\\site-packages (from werkzeug>=1.0.1->tensorboard<3,>=2.3.0->tensorflow) (2.1.3)\n",
      "Requirement already satisfied: zipp>=0.5 in c:\\users\\bse07\\anaconda3\\envs\\py38_gpu\\lib\\site-packages (from importlib-metadata>=4.4->markdown>=2.6.8->tensorboard<3,>=2.3.0->tensorflow) (3.17.0)\n",
      "Requirement already satisfied: pyasn1<0.5.0,>=0.4.6 in c:\\users\\bse07\\anaconda3\\envs\\py38_gpu\\lib\\site-packages (from pyasn1-modules>=0.2.1->google-auth<3,>=1.6.3->tensorboard<3,>=2.3.0->tensorflow) (0.4.8)\n",
      "Requirement already satisfied: oauthlib>=3.0.0 in c:\\users\\bse07\\anaconda3\\envs\\py38_gpu\\lib\\site-packages (from requests-oauthlib>=0.7.0->google-auth-oauthlib<0.5,>=0.4.1->tensorboard<3,>=2.3.0->tensorflow) (3.2.2)\n",
      "Downloading gast-0.3.3-py2.py3-none-any.whl (9.7 kB)\n",
      "Downloading scipy-1.4.1-cp38-cp38-win_amd64.whl (31.0 MB)\n",
      "   ---------------------------------------- 0.0/31.0 MB ? eta -:--:--\n",
      "   -------------- ------------------------- 11.5/31.0 MB 55.5 MB/s eta 0:00:01\n",
      "   -------------------------- ------------- 20.7/31.0 MB 50.4 MB/s eta 0:00:01\n",
      "   --------------------------------- ------ 26.0/31.0 MB 42.2 MB/s eta 0:00:01\n",
      "   ---------------------------------------  30.9/31.0 MB 42.7 MB/s eta 0:00:01\n",
      "   ---------------------------------------- 31.0/31.0 MB 37.1 MB/s eta 0:00:00\n",
      "Downloading numpy-1.18.5-cp38-cp38-win_amd64.whl (12.8 MB)\n",
      "   ---------------------------------------- 0.0/12.8 MB ? eta -:--:--\n",
      "   ---------------------------------- ----- 11.0/12.8 MB 52.7 MB/s eta 0:00:01\n",
      "   ---------------------------------------- 12.8/12.8 MB 44.3 MB/s eta 0:00:00\n",
      "Using cached protobuf-3.19.6-cp38-cp38-win_amd64.whl (896 kB)\n",
      "Downloading tensorflow_estimator-2.3.0-py2.py3-none-any.whl (459 kB)\n",
      "Installing collected packages: tensorflow-estimator, protobuf, numpy, gast, scipy\n",
      "  Attempting uninstall: tensorflow-estimator\n",
      "    Found existing installation: tensorflow-estimator 2.15.0\n",
      "    Uninstalling tensorflow-estimator-2.15.0:\n",
      "      Successfully uninstalled tensorflow-estimator-2.15.0\n",
      "  Attempting uninstall: protobuf\n",
      "    Found existing installation: protobuf 4.25.3\n",
      "    Uninstalling protobuf-4.25.3:\n",
      "      Successfully uninstalled protobuf-4.25.3\n",
      "  Attempting uninstall: numpy\n",
      "    Found existing installation: numpy 1.23.4\n",
      "    Uninstalling numpy-1.23.4:\n",
      "      Successfully uninstalled numpy-1.23.4\n",
      "  Attempting uninstall: gast\n",
      "    Found existing installation: gast 0.4.0\n",
      "    Uninstalling gast-0.4.0:\n",
      "      Successfully uninstalled gast-0.4.0\n",
      "  Attempting uninstall: scipy\n",
      "    Found existing installation: scipy 1.10.1\n",
      "    Uninstalling scipy-1.10.1:\n",
      "      Successfully uninstalled scipy-1.10.1\n",
      "Successfully installed gast-0.3.3 numpy-1.18.5 protobuf-3.19.6 scipy-1.4.1 tensorflow-estimator-2.3.0\n",
      "Note: you may need to restart the kernel to use updated packages.\n"
     ]
    },
    {
     "name": "stderr",
     "output_type": "stream",
     "text": [
      "  WARNING: Failed to remove contents in a temporary directory 'C:\\Users\\bse07\\anaconda3\\envs\\py38_gpu\\Lib\\site-packages\\~~mpy'.\n",
      "  You can safely remove it manually.\n",
      "ERROR: pip's dependency resolver does not currently take into account all the packages that are installed. This behaviour is the source of the following dependency conflicts.\n",
      "albucore 0.0.17 requires numpy>=1.24, but you have numpy 1.18.5 which is incompatible.\n",
      "albumentations 1.4.18 requires numpy>=1.24.4, but you have numpy 1.18.5 which is incompatible.\n",
      "albumentations 1.4.18 requires scipy>=1.10.0, but you have scipy 1.4.1 which is incompatible.\n",
      "datasets 2.12.0 requires huggingface-hub<1.0.0,>=0.11.0, but you have huggingface-hub 0.0.12 which is incompatible.\n",
      "matplotlib 3.7.5 requires numpy<2,>=1.20, but you have numpy 1.18.5 which is incompatible.\n",
      "pandas 2.0.3 requires numpy>=1.20.3; python_version < \"3.10\", but you have numpy 1.18.5 which is incompatible.\n",
      "scikit-image 0.21.0 requires numpy>=1.21.1, but you have numpy 1.18.5 which is incompatible.\n",
      "scikit-image 0.21.0 requires scipy>=1.8, but you have scipy 1.4.1 which is incompatible.\n"
     ]
    }
   ],
   "source": [
    "%pip install tensorflow"
   ]
  },
  {
   "cell_type": "code",
   "execution_count": 2,
   "metadata": {},
   "outputs": [
    {
     "name": "stdout",
     "output_type": "stream",
     "text": [
      "Collecting numpy==1.21.0\n",
      "  Downloading numpy-1.21.0-cp38-cp38-win_amd64.whl.metadata (2.0 kB)\n",
      "Downloading numpy-1.21.0-cp38-cp38-win_amd64.whl (14.0 MB)\n",
      "   ---------------------------------------- 0.0/14.0 MB ? eta -:--:--\n",
      "   ------------- -------------------------- 4.7/14.0 MB 22.0 MB/s eta 0:00:01\n",
      "   ------------------------------ --------- 10.5/14.0 MB 25.1 MB/s eta 0:00:01\n",
      "   ------------------------------------ --- 12.6/14.0 MB 20.2 MB/s eta 0:00:01\n",
      "   ---------------------------------------- 14.0/14.0 MB 19.5 MB/s eta 0:00:00\n",
      "Installing collected packages: numpy\n",
      "  Attempting uninstall: numpy\n",
      "    Found existing installation: numpy 1.24.4\n",
      "    Uninstalling numpy-1.24.4:\n",
      "      Successfully uninstalled numpy-1.24.4\n",
      "Successfully installed numpy-1.21.0\n",
      "Note: you may need to restart the kernel to use updated packages.\n"
     ]
    },
    {
     "name": "stderr",
     "output_type": "stream",
     "text": [
      "  WARNING: Failed to remove contents in a temporary directory 'C:\\Users\\bse07\\anaconda3\\envs\\py38_gpu\\Lib\\site-packages\\~=mpy'.\n",
      "  You can safely remove it manually.\n",
      "ERROR: pip's dependency resolver does not currently take into account all the packages that are installed. This behaviour is the source of the following dependency conflicts.\n",
      "albucore 0.0.17 requires numpy>=1.24, but you have numpy 1.21.0 which is incompatible.\n",
      "albumentations 1.4.18 requires numpy>=1.24.4, but you have numpy 1.21.0 which is incompatible.\n",
      "albumentations 1.4.18 requires scipy>=1.10.0, but you have scipy 1.4.1 which is incompatible.\n",
      "datasets 2.12.0 requires huggingface-hub<1.0.0,>=0.11.0, but you have huggingface-hub 0.0.12 which is incompatible.\n",
      "scikit-image 0.21.0 requires numpy>=1.21.1, but you have numpy 1.21.0 which is incompatible.\n",
      "scikit-image 0.21.0 requires scipy>=1.8, but you have scipy 1.4.1 which is incompatible.\n",
      "tensorflow 2.3.0 requires numpy<1.19.0,>=1.16.0, but you have numpy 1.21.0 which is incompatible.\n"
     ]
    }
   ],
   "source": [
    "%pip install numpy==1.21.0"
   ]
  },
  {
   "cell_type": "code",
   "execution_count": 2,
   "metadata": {},
   "outputs": [
    {
     "name": "stdout",
     "output_type": "stream",
     "text": [
      "Note: you may need to restart the kernel to use updated packages.\n"
     ]
    },
    {
     "name": "stderr",
     "output_type": "stream",
     "text": [
      "WARNING: Skipping transformer as it is not installed.\n"
     ]
    }
   ],
   "source": [
    "%pip uninstall transformer"
   ]
  },
  {
   "cell_type": "code",
   "execution_count": 15,
   "metadata": {},
   "outputs": [
    {
     "name": "stdout",
     "output_type": "stream",
     "text": [
      "Looking in links: https://download.pytorch.org/whl/torch_stable.html\n",
      "Collecting torch==1.10.1+cu111\n",
      "  Using cached https://download.pytorch.org/whl/cu111/torch-1.10.1%2Bcu111-cp38-cp38-win_amd64.whl (3198.3 MB)\n",
      "Note: you may need to restart the kernel to use updated packages.\n"
     ]
    },
    {
     "name": "stderr",
     "output_type": "stream",
     "text": [
      "ERROR: Ignored the following yanked versions: 0.1.6, 0.1.7, 0.1.8, 0.1.9, 0.2.0, 0.2.1, 0.2.2, 0.2.2.post2, 0.2.2.post3, 0.11.0, 0.15.0\n",
      "ERROR: Could not find a version that satisfies the requirement torchvision==0.11.2+cu111 (from versions: 0.1.6, 0.2.0, 0.5.0, 0.5.0+cpu, 0.5.0+cu92, 0.6.0, 0.6.0+cpu, 0.6.0+cu101, 0.6.0+cu92, 0.6.1, 0.6.1+cpu, 0.6.1+cu101, 0.6.1+cu92, 0.7.0, 0.7.0+cpu, 0.7.0+cu101, 0.8.0, 0.8.1, 0.8.1+cpu, 0.8.1+cu101, 0.8.1+cu110, 0.8.2, 0.8.2+cpu, 0.8.2+cu101, 0.8.2+cu110, 0.9.0, 0.9.0+cpu, 0.9.0+cu101, 0.9.0+cu111, 0.9.1, 0.9.1+cpu, 0.9.1+cu101, 0.9.1+cu102, 0.9.1+cu111, 0.10.0, 0.10.0+cpu, 0.10.0+cu102, 0.10.0+cu111, 0.10.1, 0.10.1+cpu, 0.10.1+cu102, 0.10.1+cu111, 0.11.0+cpu, 0.11.0+cu102, 0.11.0+cu113, 0.11.1, 0.11.1+cpu, 0.11.1+cu102, 0.11.1+cu113, 0.11.2, 0.11.2+cpu, 0.11.2+cu102, 0.11.2+cu113, 0.11.3, 0.11.3+cpu, 0.11.3+cu102, 0.11.3+cu113, 0.12.0, 0.12.0+cpu, 0.12.0+cu113, 0.12.0+cu115, 0.13.0, 0.13.0+cpu, 0.13.0+cu113, 0.13.0+cu116, 0.13.1, 0.13.1+cpu, 0.13.1+cu113, 0.13.1+cu116, 0.14.0, 0.14.0+cpu, 0.14.0+cu116, 0.14.0+cu117, 0.14.1, 0.14.1+cpu, 0.14.1+cu116, 0.14.1+cu117, 0.15.0+cpu, 0.15.0+cu117, 0.15.0+cu118, 0.15.1, 0.15.1+cpu, 0.15.1+cu117, 0.15.1+cu118, 0.15.2, 0.15.2+cpu, 0.15.2+cu117, 0.15.2+cu118, 0.16.0, 0.16.0+cpu, 0.16.0+cu118, 0.16.0+cu121, 0.16.1, 0.16.1+cpu, 0.16.1+cu118, 0.16.1+cu121, 0.16.2, 0.16.2+cpu, 0.16.2+cu118, 0.16.2+cu121, 0.17.0, 0.17.0+cpu, 0.17.0+cu118, 0.17.0+cu121, 0.17.1, 0.17.1+cpu, 0.17.1+cu118, 0.17.1+cu121, 0.17.2, 0.17.2+cpu, 0.17.2+cu118, 0.17.2+cu121, 0.18.0, 0.18.0+cpu, 0.18.0+cu118, 0.18.0+cu121, 0.18.1, 0.18.1+cpu, 0.18.1+cu118, 0.18.1+cu121, 0.19.0, 0.19.1)\n",
      "ERROR: No matching distribution found for torchvision==0.11.2+cu111\n"
     ]
    }
   ],
   "source": [
    "%pip install torch==1.10.1+cu111 torchvision==0.11.2+cu111 -f https://download.pytorch.org/whl/torch_stable.html\n"
   ]
  },
  {
   "cell_type": "code",
   "execution_count": 97,
   "metadata": {},
   "outputs": [
    {
     "name": "stdout",
     "output_type": "stream",
     "text": [
      "Collecting transformers==4.11.3\n",
      "  Using cached transformers-4.11.3-py3-none-any.whl.metadata (53 kB)\n",
      "Requirement already satisfied: filelock in c:\\users\\bse07\\anaconda3\\envs\\py38_gpu\\lib\\site-packages (from transformers==4.11.3) (3.13.1)\n",
      "Collecting huggingface-hub>=0.0.17 (from transformers==4.11.3)\n",
      "  Using cached huggingface_hub-0.26.2-py3-none-any.whl.metadata (13 kB)\n",
      "Requirement already satisfied: numpy>=1.17 in c:\\users\\bse07\\anaconda3\\envs\\py38_gpu\\lib\\site-packages (from transformers==4.11.3) (1.21.0)\n",
      "Requirement already satisfied: packaging>=20.0 in c:\\users\\bse07\\anaconda3\\envs\\py38_gpu\\lib\\site-packages (from transformers==4.11.3) (24.1)\n",
      "Requirement already satisfied: pyyaml>=5.1 in c:\\users\\bse07\\anaconda3\\envs\\py38_gpu\\lib\\site-packages (from transformers==4.11.3) (6.0.1)\n",
      "Requirement already satisfied: regex!=2019.12.17 in c:\\users\\bse07\\anaconda3\\envs\\py38_gpu\\lib\\site-packages (from transformers==4.11.3) (2024.7.24)\n",
      "Requirement already satisfied: requests in c:\\users\\bse07\\anaconda3\\envs\\py38_gpu\\lib\\site-packages (from transformers==4.11.3) (2.32.3)\n",
      "Requirement already satisfied: sacremoses in c:\\users\\bse07\\anaconda3\\envs\\py38_gpu\\lib\\site-packages (from transformers==4.11.3) (0.1.1)\n",
      "Requirement already satisfied: tokenizers<0.11,>=0.10.1 in c:\\users\\bse07\\anaconda3\\envs\\py38_gpu\\lib\\site-packages (from transformers==4.11.3) (0.10.3)\n",
      "Requirement already satisfied: tqdm>=4.27 in c:\\users\\bse07\\anaconda3\\envs\\py38_gpu\\lib\\site-packages (from transformers==4.11.3) (4.66.4)\n",
      "Requirement already satisfied: fsspec>=2023.5.0 in c:\\users\\bse07\\anaconda3\\envs\\py38_gpu\\lib\\site-packages (from huggingface-hub>=0.0.17->transformers==4.11.3) (2024.3.1)\n",
      "Requirement already satisfied: typing-extensions>=3.7.4.3 in c:\\users\\bse07\\anaconda3\\envs\\py38_gpu\\lib\\site-packages (from huggingface-hub>=0.0.17->transformers==4.11.3) (4.12.2)\n",
      "Requirement already satisfied: colorama in c:\\users\\bse07\\anaconda3\\envs\\py38_gpu\\lib\\site-packages (from tqdm>=4.27->transformers==4.11.3) (0.4.6)\n",
      "Requirement already satisfied: charset-normalizer<4,>=2 in c:\\users\\bse07\\anaconda3\\envs\\py38_gpu\\lib\\site-packages (from requests->transformers==4.11.3) (3.3.2)\n",
      "Requirement already satisfied: idna<4,>=2.5 in c:\\users\\bse07\\anaconda3\\envs\\py38_gpu\\lib\\site-packages (from requests->transformers==4.11.3) (3.7)\n",
      "Requirement already satisfied: urllib3<3,>=1.21.1 in c:\\users\\bse07\\anaconda3\\envs\\py38_gpu\\lib\\site-packages (from requests->transformers==4.11.3) (2.2.2)\n",
      "Requirement already satisfied: certifi>=2017.4.17 in c:\\users\\bse07\\anaconda3\\envs\\py38_gpu\\lib\\site-packages (from requests->transformers==4.11.3) (2024.8.30)\n",
      "Requirement already satisfied: click in c:\\users\\bse07\\anaconda3\\envs\\py38_gpu\\lib\\site-packages (from sacremoses->transformers==4.11.3) (8.1.7)\n",
      "Requirement already satisfied: joblib in c:\\users\\bse07\\anaconda3\\envs\\py38_gpu\\lib\\site-packages (from sacremoses->transformers==4.11.3) (1.4.2)\n",
      "Using cached transformers-4.11.3-py3-none-any.whl (2.9 MB)\n",
      "Using cached huggingface_hub-0.26.2-py3-none-any.whl (447 kB)\n",
      "Installing collected packages: huggingface-hub, transformers\n",
      "  Attempting uninstall: huggingface-hub\n",
      "    Found existing installation: huggingface-hub 0.0.12\n",
      "    Uninstalling huggingface-hub-0.0.12:\n",
      "      Successfully uninstalled huggingface-hub-0.0.12\n",
      "  Attempting uninstall: transformers\n",
      "    Found existing installation: transformers 4.9.0\n",
      "    Uninstalling transformers-4.9.0:\n",
      "      Successfully uninstalled transformers-4.9.0\n",
      "Successfully installed huggingface-hub-0.26.2 transformers-4.11.3\n",
      "Note: you may need to restart the kernel to use updated packages.\n"
     ]
    }
   ],
   "source": [
    "%pip install transformers==4.11.3"
   ]
  },
  {
   "cell_type": "code",
   "execution_count": 1,
   "metadata": {
    "execution": {
     "iopub.execute_input": "2022-07-08T00:52:36.819661Z",
     "iopub.status.busy": "2022-07-08T00:52:36.819212Z",
     "iopub.status.idle": "2022-07-08T00:52:46.554769Z",
     "shell.execute_reply": "2022-07-08T00:52:46.553589Z",
     "shell.execute_reply.started": "2022-07-08T00:52:36.819624Z"
    },
    "trusted": true
   },
   "outputs": [
    {
     "name": "stderr",
     "output_type": "stream",
     "text": [
      "c:\\Users\\bse07\\anaconda3\\envs\\py38_gpu\\lib\\site-packages\\tqdm\\auto.py:21: TqdmWarning: IProgress not found. Please update jupyter and ipywidgets. See https://ipywidgets.readthedocs.io/en/stable/user_install.html\n",
      "  from .autonotebook import tqdm as notebook_tqdm\n",
      "c:\\Users\\bse07\\anaconda3\\envs\\py38_gpu\\lib\\site-packages\\albumentations\\__init__.py:13: UserWarning: A new version of Albumentations is available: 1.4.21 (you have 1.4.18). Upgrade using: pip install -U albumentations. To disable automatic update checks, set the environment variable NO_ALBUMENTATIONS_UPDATE to 1.\n",
      "  check_for_updates()\n"
     ]
    },
    {
     "data": {
      "text/plain": [
       "DistilBertTokenizer(name_or_path='distilbert-base-uncased', vocab_size=30522, model_max_length=512, is_fast=False, padding_side='right', truncation_side='right', special_tokens={'unk_token': '[UNK]', 'sep_token': '[SEP]', 'pad_token': '[PAD]', 'cls_token': '[CLS]', 'mask_token': '[MASK]'}, clean_up_tokenization_spaces=True),  added_tokens_decoder={\n",
       "\t0: AddedToken(\"[PAD]\", rstrip=False, lstrip=False, single_word=False, normalized=False, special=True),\n",
       "\t100: AddedToken(\"[UNK]\", rstrip=False, lstrip=False, single_word=False, normalized=False, special=True),\n",
       "\t101: AddedToken(\"[CLS]\", rstrip=False, lstrip=False, single_word=False, normalized=False, special=True),\n",
       "\t102: AddedToken(\"[SEP]\", rstrip=False, lstrip=False, single_word=False, normalized=False, special=True),\n",
       "\t103: AddedToken(\"[MASK]\", rstrip=False, lstrip=False, single_word=False, normalized=False, special=True),\n",
       "}"
      ]
     },
     "execution_count": 1,
     "metadata": {},
     "output_type": "execute_result"
    }
   ],
   "source": [
    "import os\n",
    "import cv2\n",
    "import timm\n",
    "import torch\n",
    "import itertools\n",
    "import numpy as np\n",
    "import pandas as pd\n",
    "import torch.nn as nn\n",
    "import albumentations as A\n",
    "import matplotlib.pyplot as plt\n",
    "from tqdm.autonotebook import tqdm\n",
    "from transformers import DistilBertModel, DistilBertConfig, DistilBertTokenizer\n",
    "DistilBertTokenizer.from_pretrained('distilbert-base-uncased', force_download=True)"
   ]
  },
  {
   "cell_type": "code",
   "execution_count": 2,
   "metadata": {
    "execution": {
     "iopub.execute_input": "2022-07-08T00:53:07.211076Z",
     "iopub.status.busy": "2022-07-08T00:53:07.210141Z",
     "iopub.status.idle": "2022-07-08T00:53:08.577666Z",
     "shell.execute_reply": "2022-07-08T00:53:08.576726Z",
     "shell.execute_reply.started": "2022-07-08T00:53:07.211043Z"
    },
    "trusted": true
   },
   "outputs": [
    {
     "data": {
      "text/html": [
       "<div>\n",
       "<style scoped>\n",
       "    .dataframe tbody tr th:only-of-type {\n",
       "        vertical-align: middle;\n",
       "    }\n",
       "\n",
       "    .dataframe tbody tr th {\n",
       "        vertical-align: top;\n",
       "    }\n",
       "\n",
       "    .dataframe thead th {\n",
       "        text-align: right;\n",
       "    }\n",
       "</style>\n",
       "<table border=\"1\" class=\"dataframe\">\n",
       "  <thead>\n",
       "    <tr style=\"text-align: right;\">\n",
       "      <th></th>\n",
       "      <th>image</th>\n",
       "      <th>caption_number</th>\n",
       "      <th>caption</th>\n",
       "      <th>id</th>\n",
       "    </tr>\n",
       "  </thead>\n",
       "  <tbody>\n",
       "    <tr>\n",
       "      <th>0</th>\n",
       "      <td>1000092795.jpg</td>\n",
       "      <td>0</td>\n",
       "      <td>Two young guys with shaggy hair look at their ...</td>\n",
       "      <td>0</td>\n",
       "    </tr>\n",
       "    <tr>\n",
       "      <th>1</th>\n",
       "      <td>1000092795.jpg</td>\n",
       "      <td>1</td>\n",
       "      <td>Two young , White males are outside near many ...</td>\n",
       "      <td>0</td>\n",
       "    </tr>\n",
       "    <tr>\n",
       "      <th>2</th>\n",
       "      <td>1000092795.jpg</td>\n",
       "      <td>2</td>\n",
       "      <td>Two men in green shirts are standing in a yard .</td>\n",
       "      <td>0</td>\n",
       "    </tr>\n",
       "    <tr>\n",
       "      <th>3</th>\n",
       "      <td>1000092795.jpg</td>\n",
       "      <td>3</td>\n",
       "      <td>A man in a blue shirt standing in a garden .</td>\n",
       "      <td>0</td>\n",
       "    </tr>\n",
       "    <tr>\n",
       "      <th>4</th>\n",
       "      <td>1000092795.jpg</td>\n",
       "      <td>4</td>\n",
       "      <td>Two friends enjoy time spent together .</td>\n",
       "      <td>0</td>\n",
       "    </tr>\n",
       "  </tbody>\n",
       "</table>\n",
       "</div>"
      ],
      "text/plain": [
       "            image caption_number  \\\n",
       "0  1000092795.jpg              0   \n",
       "1  1000092795.jpg              1   \n",
       "2  1000092795.jpg              2   \n",
       "3  1000092795.jpg              3   \n",
       "4  1000092795.jpg              4   \n",
       "\n",
       "                                             caption  id  \n",
       "0  Two young guys with shaggy hair look at their ...   0  \n",
       "1  Two young , White males are outside near many ...   0  \n",
       "2   Two men in green shirts are standing in a yard .   0  \n",
       "3       A man in a blue shirt standing in a garden .   0  \n",
       "4            Two friends enjoy time spent together .   0  "
      ]
     },
     "execution_count": 2,
     "metadata": {},
     "output_type": "execute_result"
    }
   ],
   "source": [
    "# df = pd.read_csv(\"../../input/flickr-image-dataset/flickr30k_images/results.csv\", delimiter=\"|\")\n",
    "df = pd.read_csv(\"input/flickr30k_images/results.csv\", delimiter=\"|\")\n",
    "df.columns = ['image', 'caption_number', 'caption']\n",
    "df['caption'] = df['caption'].str.lstrip()\n",
    "df['caption_number'] = df['caption_number'].str.lstrip()\n",
    "df.loc[19999, 'caption_number'] = \"4\"\n",
    "df.loc[19999, 'caption'] = \"A dog runs across the grass .\"\n",
    "ids = [id_ for id_ in range(len(df) // 5) for _ in range(5)]\n",
    "df['id'] = ids\n",
    "df.to_csv(\"captions.csv\", index=False)\n",
    "df.head()"
   ]
  },
  {
   "cell_type": "markdown",
   "metadata": {},
   "source": [
    "## Parameters"
   ]
  },
  {
   "cell_type": "code",
   "execution_count": 3,
   "metadata": {
    "execution": {
     "iopub.execute_input": "2022-07-08T01:07:15.769323Z",
     "iopub.status.busy": "2022-07-08T01:07:15.768338Z",
     "iopub.status.idle": "2022-07-08T01:07:15.777399Z",
     "shell.execute_reply": "2022-07-08T01:07:15.776406Z",
     "shell.execute_reply.started": "2022-07-08T01:07:15.769276Z"
    },
    "trusted": true
   },
   "outputs": [
    {
     "name": "stdout",
     "output_type": "stream",
     "text": [
      "CUDA is available. Device set to: cuda\n",
      "GPU Device Name: NVIDIA GeForce RTX 2060 SUPER\n",
      "Device: cuda\n",
      "1.10.1\n",
      "11.3\n",
      "True\n"
     ]
    }
   ],
   "source": [
    "class CFG:\n",
    "    debug = False\n",
    "    image_path = \"input\\flickr30k_images\\flickr30k_images\\flickr30k_images\"\n",
    "    captions_path = \".\"\n",
    "    batch_size = 64\n",
    "    num_workers = 4\n",
    "    head_lr = 1e-3\n",
    "    image_encoder_lr = 5e-4\n",
    "    text_encoder_lr = 5e-5\n",
    "    weight_decay = 1e-3\n",
    "    patience = 1\n",
    "    factor = 0.8\n",
    "    epochs = 3\n",
    "    device = torch.device(\"cuda:0\" if torch.cuda.is_available() else \"cpu\")\n",
    "    if torch.cuda.is_available():\n",
    "        device = torch.device(\"cuda\")\n",
    "        print(\"CUDA is available. Device set to:\", device)\n",
    "        print(\"GPU Device Name:\", torch.cuda.get_device_name(0))\n",
    "    else:\n",
    "        print(\"CUDA is not available. Using CPU instead.\")\n",
    "\n",
    "    print('Device:', device)\n",
    "    print(torch.__version__)  # PyTorch 버전 확인\n",
    "    print(torch.version.cuda)  # CUDA 버전 확인\n",
    "    print(torch.cuda.is_available())  # CUDA 사용 가능 여부 확인\n",
    "\n",
    "    model_name = 'resnet50'\n",
    "    image_embedding = 2048\n",
    "    text_encoder_model = \"distilbert-base-uncased\"\n",
    "    text_embedding = 768\n",
    "    text_tokenizer = \"distilbert-base-uncased\"\n",
    "    max_length = 200\n",
    "\n",
    "    pretrained = True # for both image encoder and text encoder\n",
    "    trainable = True # for both image encoder and text encoder\n",
    "    temperature = 1.0\n",
    "\n",
    "    # image size\n",
    "    size = 224\n",
    "\n",
    "    # for projection head; used for both image and text encoders\n",
    "    num_projection_layers = 0\n",
    "    projection_dim = 256 \n",
    "    dropout = 0.1"
   ]
  },
  {
   "cell_type": "markdown",
   "metadata": {},
   "source": [
    "## Utils"
   ]
  },
  {
   "cell_type": "code",
   "execution_count": 4,
   "metadata": {
    "execution": {
     "iopub.execute_input": "2022-07-08T01:07:17.511662Z",
     "iopub.status.busy": "2022-07-08T01:07:17.5103Z",
     "iopub.status.idle": "2022-07-08T01:07:17.522966Z",
     "shell.execute_reply": "2022-07-08T01:07:17.522068Z",
     "shell.execute_reply.started": "2022-07-08T01:07:17.51162Z"
    },
    "trusted": true
   },
   "outputs": [],
   "source": [
    "class AvgMeter:\n",
    "    def __init__(self, name=\"Metric\"):\n",
    "        self.name = name\n",
    "        self.reset()\n",
    "\n",
    "    def reset(self):\n",
    "        self.avg, self.sum, self.count = [0] * 3\n",
    "\n",
    "    def update(self, val, count=1):\n",
    "        self.count += count\n",
    "        self.sum += val * count\n",
    "        self.avg = self.sum / self.count\n",
    "\n",
    "    def __repr__(self):\n",
    "        text = f\"{self.name}: {self.avg:.4f}\"\n",
    "        return text\n",
    "\n",
    "def get_lr(optimizer):\n",
    "    for param_group in optimizer.param_groups:\n",
    "        return param_group[\"lr\"]"
   ]
  },
  {
   "cell_type": "markdown",
   "metadata": {},
   "source": [
    "## Generators"
   ]
  },
  {
   "cell_type": "code",
   "execution_count": 5,
   "metadata": {
    "execution": {
     "iopub.execute_input": "2022-07-08T01:07:18.119081Z",
     "iopub.status.busy": "2022-07-08T01:07:18.118597Z",
     "iopub.status.idle": "2022-07-08T01:07:18.131015Z",
     "shell.execute_reply": "2022-07-08T01:07:18.129666Z",
     "shell.execute_reply.started": "2022-07-08T01:07:18.119046Z"
    },
    "trusted": true
   },
   "outputs": [],
   "source": [
    "class CLIPDataset(torch.utils.data.Dataset):\n",
    "    def __init__(self, image_filenames, captions, tokenizer, transforms):\n",
    "        \"\"\"\n",
    "        image_filenames and captions must have the same length; so, if there are\n",
    "        multiple captions for each image, the image_filenames must have repetitive\n",
    "        file names \n",
    "        \"\"\"\n",
    "\n",
    "        self.image_filenames = image_filenames\n",
    "        self.captions = list(captions)\n",
    "        self.encoded_captions = tokenizer(\n",
    "            list(captions), padding=True, truncation=True, max_length=CFG.max_length\n",
    "        )\n",
    "        self.transforms = transforms\n",
    "\n",
    "    def __getitem__(self, idx):\n",
    "        item = {\n",
    "            key: torch.tensor(values[idx])\n",
    "            for key, values in self.encoded_captions.items()\n",
    "        }\n",
    "\n",
    "        image = cv2.imread(f\"{CFG.image_path}/{self.image_filenames[idx]}\")\n",
    "        image = cv2.cvtColor(image, cv2.COLOR_BGR2RGB)\n",
    "        image = self.transforms(image=image)['image']\n",
    "        item['image'] = torch.tensor(image).permute(2, 0, 1).float()\n",
    "        item['caption'] = self.captions[idx]\n",
    "\n",
    "        return item\n",
    "\n",
    "\n",
    "    def __len__(self):\n",
    "        return len(self.captions)\n",
    "\n",
    "\n",
    "\n",
    "def get_transforms(mode=\"train\"):\n",
    "    if mode == \"train\":\n",
    "        return A.Compose(\n",
    "            [\n",
    "                A.Resize(CFG.size, CFG.size, always_apply=True),\n",
    "                A.Normalize(max_pixel_value=255.0, always_apply=True),\n",
    "            ]\n",
    "        )\n",
    "    else:\n",
    "        return A.Compose(\n",
    "            [\n",
    "                A.Resize(CFG.size, CFG.size, always_apply=True),\n",
    "                A.Normalize(max_pixel_value=255.0, always_apply=True),\n",
    "            ]\n",
    "        )"
   ]
  },
  {
   "cell_type": "markdown",
   "metadata": {},
   "source": [
    "## Image Generator"
   ]
  },
  {
   "cell_type": "code",
   "execution_count": 6,
   "metadata": {
    "execution": {
     "iopub.execute_input": "2022-07-08T01:07:18.635537Z",
     "iopub.status.busy": "2022-07-08T01:07:18.635167Z",
     "iopub.status.idle": "2022-07-08T01:07:18.642728Z",
     "shell.execute_reply": "2022-07-08T01:07:18.641408Z",
     "shell.execute_reply.started": "2022-07-08T01:07:18.635501Z"
    },
    "trusted": true
   },
   "outputs": [],
   "source": [
    "class ImageEncoder(nn.Module):\n",
    "    \"\"\"\n",
    "    Encode images to a fixed size vector\n",
    "    \"\"\"\n",
    "\n",
    "    def __init__(\n",
    "        self, model_name=CFG.model_name, pretrained=CFG.pretrained, trainable=CFG.trainable\n",
    "    ):\n",
    "        super().__init__()\n",
    "        self.model = timm.create_model(\n",
    "            model_name, pretrained, num_classes=0, global_pool=\"avg\"\n",
    "        )\n",
    "        for p in self.model.parameters():\n",
    "            p.requires_grad = trainable\n",
    "\n",
    "    def forward(self, x):\n",
    "        return self.model(x)"
   ]
  },
  {
   "cell_type": "markdown",
   "metadata": {},
   "source": [
    "The code encodes each image to a fixed size vector with the size of the model’s output channels (in case of **ResNet50** the vector size will be **2048**). This is the output after the nn.AdaptiveAvgPool2d() layer."
   ]
  },
  {
   "cell_type": "markdown",
   "metadata": {},
   "source": [
    "## Text Encoder"
   ]
  },
  {
   "cell_type": "markdown",
   "metadata": {},
   "source": [
    "I’ll use **DistilBERT** as the text encoder. Like its bigger brother **BERT**, two special tokens will be added to the actual input tokens: **CLS** and **SEP** which mark the start and end of a sentence. To grab the whole representation of a sentence (as the related **BERT** and **DistilBERT** papers point out) we use the final representations of the **CLS** token and we hope that this representation captures the overall meaning of the sentence (caption). Thinking it in this way, it is similar to what we did to images and converted them into a fixed size vector."
   ]
  },
  {
   "cell_type": "code",
   "execution_count": 7,
   "metadata": {
    "execution": {
     "iopub.execute_input": "2022-07-08T01:07:19.724002Z",
     "iopub.status.busy": "2022-07-08T01:07:19.723317Z",
     "iopub.status.idle": "2022-07-08T01:07:19.731754Z",
     "shell.execute_reply": "2022-07-08T01:07:19.730553Z",
     "shell.execute_reply.started": "2022-07-08T01:07:19.723967Z"
    },
    "trusted": true
   },
   "outputs": [],
   "source": [
    "class TextEncoder(nn.Module):\n",
    "    def __init__(self, model_name=CFG.text_encoder_model, pretrained=CFG.pretrained, trainable=CFG.trainable):\n",
    "        super().__init__()\n",
    "        if pretrained:\n",
    "            self.model = DistilBertModel.from_pretrained(model_name)\n",
    "        else:\n",
    "            self.model = DistilBertModel(config=DistilBertConfig())\n",
    "            \n",
    "        for p in self.model.parameters():\n",
    "            p.requires_grad = trainable\n",
    "\n",
    "        # we are using the CLS token hidden representation as the sentence's embedding\n",
    "        self.target_token_idx = 0\n",
    "\n",
    "    def forward(self, input_ids, attention_mask):\n",
    "        output = self.model(input_ids=input_ids, attention_mask=attention_mask)\n",
    "        last_hidden_state = output.last_hidden_state\n",
    "        return last_hidden_state[:, self.target_token_idx, :]"
   ]
  },
  {
   "cell_type": "markdown",
   "metadata": {},
   "source": [
    "Here i am combining the **2048** Image Vector and **768** Text Vector to **256** Vector."
   ]
  },
  {
   "cell_type": "code",
   "execution_count": 8,
   "metadata": {
    "execution": {
     "iopub.execute_input": "2022-07-08T01:07:20.248335Z",
     "iopub.status.busy": "2022-07-08T01:07:20.247363Z",
     "iopub.status.idle": "2022-07-08T01:07:20.256967Z",
     "shell.execute_reply": "2022-07-08T01:07:20.255414Z",
     "shell.execute_reply.started": "2022-07-08T01:07:20.248286Z"
    },
    "trusted": true
   },
   "outputs": [],
   "source": [
    "class ProjectionHead(nn.Module):\n",
    "    def __init__(\n",
    "        self,\n",
    "        embedding_dim,\n",
    "        projection_dim=CFG.projection_dim,\n",
    "        dropout=CFG.dropout\n",
    "    ):\n",
    "        super().__init__()\n",
    "        self.projection = nn.Linear(embedding_dim, projection_dim)\n",
    "        self.gelu = nn.GELU()\n",
    "        self.fc = nn.Linear(projection_dim, projection_dim)\n",
    "        self.dropout = nn.Dropout(dropout)\n",
    "        self.layer_norm = nn.LayerNorm(projection_dim)\n",
    "    \n",
    "    def forward(self, x):\n",
    "        projected = self.projection(x)\n",
    "        x = self.gelu(projected)\n",
    "        x = self.fc(x)\n",
    "        x = self.dropout(x)\n",
    "        x = x + projected\n",
    "        x = self.layer_norm(x)\n",
    "        return x"
   ]
  },
  {
   "cell_type": "markdown",
   "metadata": {},
   "source": [
    "# CLIP Model"
   ]
  },
  {
   "cell_type": "code",
   "execution_count": 9,
   "metadata": {
    "execution": {
     "iopub.execute_input": "2022-07-08T01:07:20.828507Z",
     "iopub.status.busy": "2022-07-08T01:07:20.828036Z",
     "iopub.status.idle": "2022-07-08T01:07:20.833688Z",
     "shell.execute_reply": "2022-07-08T01:07:20.832344Z",
     "shell.execute_reply.started": "2022-07-08T01:07:20.828452Z"
    },
    "trusted": true
   },
   "outputs": [],
   "source": [
    "import torch\n",
    "from torch import nn\n",
    "import torch.nn.functional as F"
   ]
  },
  {
   "cell_type": "code",
   "execution_count": 10,
   "metadata": {
    "execution": {
     "iopub.execute_input": "2022-07-08T01:07:22.120933Z",
     "iopub.status.busy": "2022-07-08T01:07:22.120589Z",
     "iopub.status.idle": "2022-07-08T01:07:22.134Z",
     "shell.execute_reply": "2022-07-08T01:07:22.132604Z",
     "shell.execute_reply.started": "2022-07-08T01:07:22.120905Z"
    },
    "trusted": true
   },
   "outputs": [],
   "source": [
    "class CLIPModel(nn.Module):\n",
    "    def __init__(\n",
    "        self,\n",
    "        temperature=CFG.temperature,\n",
    "        image_embedding=CFG.image_embedding,\n",
    "        text_embedding=CFG.text_embedding,\n",
    "    ):\n",
    "        super().__init__()\n",
    "        self.image_encoder = ImageEncoder()\n",
    "        self.text_encoder = TextEncoder()\n",
    "        self.image_projection = ProjectionHead(embedding_dim=image_embedding)\n",
    "        self.text_projection = ProjectionHead(embedding_dim=text_embedding)\n",
    "        self.temperature = temperature\n",
    "\n",
    "    def forward(self, batch):\n",
    "        # Getting Image and Text Features\n",
    "        image_features = self.image_encoder(batch[\"image\"])\n",
    "        text_features = self.text_encoder(\n",
    "            input_ids=batch[\"input_ids\"], attention_mask=batch[\"attention_mask\"]\n",
    "        )\n",
    "        # Getting Image and Text Embeddings (with same dimension)\n",
    "        image_embeddings = self.image_projection(image_features)\n",
    "        text_embeddings = self.text_projection(text_features)\n",
    "\n",
    "        # Calculating the Loss\n",
    "        logits = (text_embeddings @ image_embeddings.T) / self.temperature\n",
    "        images_similarity = image_embeddings @ image_embeddings.T\n",
    "        texts_similarity = text_embeddings @ text_embeddings.T\n",
    "        targets = F.softmax(\n",
    "            (images_similarity + texts_similarity) / 2 * self.temperature, dim=-1\n",
    "        )\n",
    "        texts_loss = cross_entropy(logits, targets, reduction='none')\n",
    "        images_loss = cross_entropy(logits.T, targets.T, reduction='none')\n",
    "        loss =  (images_loss + texts_loss) / 2.0 # shape: (batch_size)\n",
    "        return loss.mean()\n",
    "\n",
    "\n",
    "def cross_entropy(preds, targets, reduction='none'):\n",
    "    log_softmax = nn.LogSoftmax(dim=-1)\n",
    "    loss = (-targets * log_softmax(preds)).sum(1)\n",
    "    if reduction == \"none\":\n",
    "        return loss\n",
    "    elif reduction == \"mean\":\n",
    "        return loss.mean()"
   ]
  },
  {
   "cell_type": "markdown",
   "metadata": {},
   "source": [
    "In **Linear Algebra**, one common way to measure if two vectors are of similar characteristics (they are like each other) is to calculate their dot product (multiplying the matching entries and take the sum of them); if the final number is big, they are alike and if it is small they are not (relatively speaking)!"
   ]
  },
  {
   "cell_type": "markdown",
   "metadata": {},
   "source": [
    "## Train"
   ]
  },
  {
   "cell_type": "code",
   "execution_count": 11,
   "metadata": {
    "execution": {
     "iopub.execute_input": "2022-07-08T01:07:24.42055Z",
     "iopub.status.busy": "2022-07-08T01:07:24.420183Z",
     "iopub.status.idle": "2022-07-08T01:07:24.43222Z",
     "shell.execute_reply": "2022-07-08T01:07:24.431164Z",
     "shell.execute_reply.started": "2022-07-08T01:07:24.420517Z"
    },
    "trusted": true
   },
   "outputs": [],
   "source": [
    "def make_train_valid_dfs():\n",
    "    dataframe = pd.read_csv(f\"{CFG.captions_path}/captions.csv\")\n",
    "    max_id = dataframe[\"id\"].max() + 1 if not CFG.debug else 100\n",
    "    image_ids = np.arange(0, max_id)\n",
    "    np.random.seed(42)\n",
    "    valid_ids = np.random.choice(\n",
    "        image_ids, size=int(0.2 * len(image_ids)), replace=False\n",
    "    )\n",
    "    train_ids = [id_ for id_ in image_ids if id_ not in valid_ids]\n",
    "    train_dataframe = dataframe[dataframe[\"id\"].isin(train_ids)].reset_index(drop=True)\n",
    "    valid_dataframe = dataframe[dataframe[\"id\"].isin(valid_ids)].reset_index(drop=True)\n",
    "    return train_dataframe, valid_dataframe\n",
    "\n",
    "\n",
    "def build_loaders(dataframe, tokenizer, mode):\n",
    "    transforms = get_transforms(mode=mode)\n",
    "    dataset = CLIPDataset(\n",
    "        dataframe[\"image\"].values,\n",
    "        dataframe[\"caption\"].values,\n",
    "        tokenizer=tokenizer,\n",
    "        transforms=transforms,\n",
    "    )\n",
    "    dataloader = torch.utils.data.DataLoader(\n",
    "        dataset,\n",
    "        batch_size=CFG.batch_size,\n",
    "        num_workers=CFG.num_workers,\n",
    "        pin_memory = True,\n",
    "        shuffle=True if mode == \"train\" else False,\n",
    "    )\n",
    "    return dataloader\n"
   ]
  },
  {
   "cell_type": "code",
   "execution_count": 12,
   "metadata": {
    "execution": {
     "iopub.execute_input": "2022-07-08T01:07:25.354127Z",
     "iopub.status.busy": "2022-07-08T01:07:25.353461Z",
     "iopub.status.idle": "2022-07-08T01:07:25.371067Z",
     "shell.execute_reply": "2022-07-08T01:07:25.369999Z",
     "shell.execute_reply.started": "2022-07-08T01:07:25.354092Z"
    },
    "trusted": true
   },
   "outputs": [],
   "source": [
    "def train_epoch(model, train_loader, optimizer, lr_scheduler, step):\n",
    "    loss_meter = AvgMeter()\n",
    "    tqdm_object = tqdm(train_loader, total=len(train_loader))\n",
    "    for batch in tqdm_object:\n",
    "        batch = {k: v.to(CFG.device) for k, v in batch.items() if k != \"caption\"}\n",
    "        loss = model(batch)\n",
    "        optimizer.zero_grad()\n",
    "        loss.backward()\n",
    "        optimizer.step()\n",
    "        if step == \"batch\":\n",
    "            lr_scheduler.step()\n",
    "\n",
    "        count = batch[\"image\"].size(0)\n",
    "        loss_meter.update(loss.item(), count)\n",
    "\n",
    "        print(f\"Batch GPU memory: {torch.cuda.memory_allocated() / 1024**2:.2f} MB\")\n",
    "\n",
    "        tqdm_object.set_postfix(train_loss=loss_meter.avg, lr=get_lr(optimizer))\n",
    "    return loss_meter\n",
    "\n",
    "\n",
    "def valid_epoch(model, valid_loader):\n",
    "    loss_meter = AvgMeter()\n",
    "\n",
    "    tqdm_object = tqdm(valid_loader, total=len(valid_loader))\n",
    "    for batch in tqdm_object:\n",
    "        batch = {k: v.to(CFG.device) for k, v in batch.items() if k != \"caption\"}\n",
    "        loss = model(batch)\n",
    "\n",
    "        count = batch[\"image\"].size(0)\n",
    "        loss_meter.update(loss.item(), count)\n",
    "\n",
    "        tqdm_object.set_postfix(valid_loss=loss_meter.avg)\n",
    "    return loss_meter\n",
    "\n",
    "\n",
    "def main():\n",
    "    train_df, valid_df = make_train_valid_dfs()\n",
    "    tokenizer = DistilBertTokenizer.from_pretrained(CFG.text_tokenizer)\n",
    "    train_loader = build_loaders(train_df, tokenizer, mode=\"train\")\n",
    "    valid_loader = build_loaders(valid_df, tokenizer, mode=\"valid\")\n",
    "\n",
    "\n",
    "    model = CLIPModel().to(CFG.device)\n",
    "    params = [\n",
    "        {\"params\": model.image_encoder.parameters(), \"lr\": CFG.image_encoder_lr},\n",
    "        {\"params\": model.text_encoder.parameters(), \"lr\": CFG.text_encoder_lr},\n",
    "        {\"params\": itertools.chain(\n",
    "            model.image_projection.parameters(), model.text_projection.parameters()\n",
    "        ), \"lr\": CFG.head_lr, \"weight_decay\": CFG.weight_decay}\n",
    "    ]\n",
    "    optimizer = torch.optim.AdamW(params, weight_decay=0.)\n",
    "    lr_scheduler = torch.optim.lr_scheduler.ReduceLROnPlateau(\n",
    "        optimizer, mode=\"min\", patience=CFG.patience, factor=CFG.factor\n",
    "    )\n",
    "    step = \"epoch\"\n",
    "    print(next(model.parameters()).device)  # 모델이 GPU에 있는지 확인\n",
    "\n",
    "    best_loss = float('inf')\n",
    "    for epoch in range(CFG.epochs):\n",
    "        print(f\"Epoch: {epoch + 1}\")\n",
    "\n",
    "        # GPU memory usage at the start of each epoch\n",
    "        print(f\"Allocated GPU memory: {torch.cuda.memory_allocated() / 1024**2:.2f} MB\")\n",
    "        print(f\"Reserved GPU memory: {torch.cuda.memory_reserved() / 1024**2:.2f} MB\")\n",
    "\n",
    "        model.train()\n",
    "        train_loss = train_epoch(model, train_loader, optimizer, lr_scheduler, step)\n",
    "        model.eval()\n",
    "        with torch.no_grad():\n",
    "            valid_loss = valid_epoch(model, valid_loader)\n",
    "        \n",
    "        if valid_loss.avg < best_loss:\n",
    "            best_loss = valid_loss.avg\n",
    "            torch.save(model.state_dict(), \"best.pt\")\n",
    "            print(\"Saved Best Model!\")\n",
    "        \n",
    "        lr_scheduler.step(valid_loss.avg)"
   ]
  },
  {
   "cell_type": "code",
   "execution_count": null,
   "metadata": {
    "collapsed": true,
    "execution": {
     "iopub.execute_input": "2022-07-08T01:07:26.958068Z",
     "iopub.status.busy": "2022-07-08T01:07:26.957378Z",
     "iopub.status.idle": "2022-07-08T02:01:17.453945Z",
     "shell.execute_reply": "2022-07-08T02:01:17.452467Z",
     "shell.execute_reply.started": "2022-07-08T01:07:26.958031Z"
    },
    "jupyter": {
     "outputs_hidden": true
    },
    "trusted": true
   },
   "outputs": [
    {
     "name": "stdout",
     "output_type": "stream",
     "text": [
      "cuda:0\n",
      "Epoch: 1\n",
      "Allocated GPU memory: 350.41 MB\n",
      "Reserved GPU memory: 370.00 MB\n"
     ]
    },
    {
     "name": "stderr",
     "output_type": "stream",
     "text": [
      "  0%|          | 0/1987 [00:00<?, ?it/s]"
     ]
    }
   ],
   "source": [
    "main()"
   ]
  },
  {
   "cell_type": "code",
   "execution_count": 31,
   "metadata": {},
   "outputs": [
    {
     "name": "stdout",
     "output_type": "stream",
     "text": [
      "Requirement already satisfied: safetensors in c:\\users\\bse07\\anaconda3\\envs\\hongik38\\lib\\site-packages (0.4.5)\n",
      "Note: you may need to restart the kernel to use updated packages.\n"
     ]
    }
   ],
   "source": [
    "%pip install --upgrade safetensors"
   ]
  },
  {
   "cell_type": "markdown",
   "metadata": {},
   "source": [
    "## Testing"
   ]
  },
  {
   "cell_type": "code",
   "execution_count": null,
   "metadata": {
    "execution": {
     "iopub.execute_input": "2022-07-08T02:01:22.564239Z",
     "iopub.status.busy": "2022-07-08T02:01:22.563867Z",
     "iopub.status.idle": "2022-07-08T02:01:22.573037Z",
     "shell.execute_reply": "2022-07-08T02:01:22.571666Z",
     "shell.execute_reply.started": "2022-07-08T02:01:22.56421Z"
    },
    "trusted": true
   },
   "outputs": [],
   "source": [
    "def get_image_embeddings(valid_df, model_path):\n",
    "    tokenizer = DistilBertTokenizer.from_pretrained(CFG.text_tokenizer)\n",
    "    valid_loader = build_loaders(valid_df, tokenizer, mode=\"valid\")\n",
    "    \n",
    "    model = CLIPModel().to(CFG.device)\n",
    "    model.load_state_dict(torch.load(model_path, map_location=CFG.device))\n",
    "    model.eval()\n",
    "    \n",
    "    valid_image_embeddings = []\n",
    "    with torch.no_grad():\n",
    "        for batch in tqdm(valid_loader):\n",
    "            image_features = model.image_encoder(batch[\"image\"].to(CFG.device))\n",
    "            image_embeddings = model.image_projection(image_features)\n",
    "            valid_image_embeddings.append(image_embeddings)\n",
    "    return model, torch.cat(valid_image_embeddings)"
   ]
  },
  {
   "cell_type": "code",
   "execution_count": null,
   "metadata": {
    "execution": {
     "iopub.execute_input": "2022-07-08T02:01:25.567794Z",
     "iopub.status.busy": "2022-07-08T02:01:25.567408Z",
     "iopub.status.idle": "2022-07-08T02:05:07.239022Z",
     "shell.execute_reply": "2022-07-08T02:05:07.23799Z",
     "shell.execute_reply.started": "2022-07-08T02:01:25.567765Z"
    },
    "trusted": true
   },
   "outputs": [],
   "source": [
    "_, valid_df = make_train_valid_dfs()\n",
    "model, image_embeddings = get_image_embeddings(valid_df, \"best.pt\")"
   ]
  },
  {
   "cell_type": "code",
   "execution_count": null,
   "metadata": {
    "execution": {
     "iopub.execute_input": "2022-07-08T02:06:00.545601Z",
     "iopub.status.busy": "2022-07-08T02:06:00.545208Z",
     "iopub.status.idle": "2022-07-08T02:06:00.557669Z",
     "shell.execute_reply": "2022-07-08T02:06:00.556502Z",
     "shell.execute_reply.started": "2022-07-08T02:06:00.545569Z"
    },
    "trusted": true
   },
   "outputs": [],
   "source": [
    "def find_matches(model, image_embeddings, query, image_filenames, n=9):\n",
    "    tokenizer = DistilBertTokenizer.from_pretrained(CFG.text_tokenizer)\n",
    "    encoded_query = tokenizer([query])\n",
    "    batch = {\n",
    "        key: torch.tensor(values).to(CFG.device)\n",
    "        for key, values in encoded_query.items()\n",
    "    }\n",
    "    with torch.no_grad():\n",
    "        text_features = model.text_encoder(\n",
    "            input_ids=batch[\"input_ids\"], attention_mask=batch[\"attention_mask\"]\n",
    "        )\n",
    "        text_embeddings = model.text_projection(text_features)\n",
    "    \n",
    "    image_embeddings_n = F.normalize(image_embeddings, p=2, dim=-1)\n",
    "    text_embeddings_n = F.normalize(text_embeddings, p=2, dim=-1)\n",
    "    dot_similarity = text_embeddings_n @ image_embeddings_n.T\n",
    "    \n",
    "    values, indices = torch.topk(dot_similarity.squeeze(0), n * 5)\n",
    "    matches = [image_filenames[idx] for idx in indices[::5]]\n",
    "    \n",
    "    _, axes = plt.subplots(3, 3, figsize=(10, 10))\n",
    "    for match, ax in zip(matches, axes.flatten()):\n",
    "        image = cv2.imread(f\"{CFG.image_path}/{match}\")\n",
    "        image = cv2.cvtColor(image, cv2.COLOR_BGR2RGB)\n",
    "        ax.imshow(image)\n",
    "        ax.axis(\"off\")\n",
    "    \n",
    "    plt.show()"
   ]
  },
  {
   "cell_type": "code",
   "execution_count": null,
   "metadata": {
    "execution": {
     "iopub.execute_input": "2022-07-08T02:06:02.797003Z",
     "iopub.status.busy": "2022-07-08T02:06:02.796346Z",
     "iopub.status.idle": "2022-07-08T02:06:05.35484Z",
     "shell.execute_reply": "2022-07-08T02:06:05.353558Z",
     "shell.execute_reply.started": "2022-07-08T02:06:02.796968Z"
    },
    "trusted": true
   },
   "outputs": [],
   "source": [
    "find_matches(model, \n",
    "             image_embeddings,\n",
    "             query=\"one dog sitting on the grass\",\n",
    "             image_filenames=valid_df['image'].values,\n",
    "             n=9)"
   ]
  },
  {
   "cell_type": "code",
   "execution_count": null,
   "metadata": {
    "execution": {
     "iopub.execute_input": "2022-07-08T02:06:28.676107Z",
     "iopub.status.busy": "2022-07-08T02:06:28.675754Z",
     "iopub.status.idle": "2022-07-08T02:06:31.13045Z",
     "shell.execute_reply": "2022-07-08T02:06:31.129431Z",
     "shell.execute_reply.started": "2022-07-08T02:06:28.676079Z"
    },
    "trusted": true
   },
   "outputs": [],
   "source": [
    "find_matches(model, \n",
    "             image_embeddings,\n",
    "             query=\"persons sitting on the beach.\",\n",
    "             image_filenames=valid_df['image'].values,\n",
    "             n=9)"
   ]
  },
  {
   "cell_type": "code",
   "execution_count": null,
   "metadata": {
    "execution": {
     "iopub.execute_input": "2022-07-08T02:09:27.037344Z",
     "iopub.status.busy": "2022-07-08T02:09:27.036868Z",
     "iopub.status.idle": "2022-07-08T02:09:30.009848Z",
     "shell.execute_reply": "2022-07-08T02:09:30.008157Z",
     "shell.execute_reply.started": "2022-07-08T02:09:27.037307Z"
    },
    "trusted": true
   },
   "outputs": [],
   "source": [
    "find_matches(model, \n",
    "             image_embeddings,\n",
    "             query=\"cars running on the road.\",\n",
    "             image_filenames=valid_df['image'].values,\n",
    "             n=9)"
   ]
  },
  {
   "cell_type": "code",
   "execution_count": null,
   "metadata": {
    "execution": {
     "iopub.execute_input": "2022-07-08T02:10:40.677847Z",
     "iopub.status.busy": "2022-07-08T02:10:40.677469Z",
     "iopub.status.idle": "2022-07-08T02:10:43.081218Z",
     "shell.execute_reply": "2022-07-08T02:10:43.080313Z",
     "shell.execute_reply.started": "2022-07-08T02:10:40.677818Z"
    },
    "trusted": true
   },
   "outputs": [],
   "source": [
    "find_matches(model, \n",
    "             image_embeddings,\n",
    "             query=\"girls are dancing on the stage.\",\n",
    "             image_filenames=valid_df['image'].values,\n",
    "             n=9)"
   ]
  },
  {
   "cell_type": "markdown",
   "metadata": {},
   "source": [
    "## Implmeneted With LOVE"
   ]
  }
 ],
 "metadata": {
  "kaggle": {
   "accelerator": "gpu",
   "dataSources": [
    {
     "datasetId": 31296,
     "sourceId": 39911,
     "sourceType": "datasetVersion"
    }
   ],
   "dockerImageVersionId": 30203,
   "isGpuEnabled": true,
   "isInternetEnabled": false,
   "language": "python",
   "sourceType": "notebook"
  },
  "kernelspec": {
   "display_name": "py38_gpu",
   "language": "python",
   "name": "python3"
  },
  "language_info": {
   "codemirror_mode": {
    "name": "ipython",
    "version": 3
   },
   "file_extension": ".py",
   "mimetype": "text/x-python",
   "name": "python",
   "nbconvert_exporter": "python",
   "pygments_lexer": "ipython3",
   "version": "3.8.19"
  }
 },
 "nbformat": 4,
 "nbformat_minor": 4
}
